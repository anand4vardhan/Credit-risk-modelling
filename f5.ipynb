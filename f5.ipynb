{
 "cells": [
  {
   "cell_type": "code",
   "execution_count": 1,
   "metadata": {},
   "outputs": [],
   "source": [
    "import os\n",
    "import pandas as pd"
   ]
  },
  {
   "cell_type": "code",
   "execution_count": 2,
   "metadata": {},
   "outputs": [],
   "source": [
    "os.chdir('A:\\Imarticus\\python project')"
   ]
  },
  {
   "cell_type": "code",
   "execution_count": 3,
   "metadata": {},
   "outputs": [],
   "source": [
    "train=pd.read_csv('final_train_data.csv')"
   ]
  },
  {
   "cell_type": "code",
   "execution_count": 4,
   "metadata": {},
   "outputs": [],
   "source": [
    "test=pd.read_csv('final_test_data.csv')"
   ]
  },
  {
   "cell_type": "code",
   "execution_count": 5,
   "metadata": {},
   "outputs": [
    {
     "data": {
      "text/html": [
       "<div>\n",
       "<style scoped>\n",
       "    .dataframe tbody tr th:only-of-type {\n",
       "        vertical-align: middle;\n",
       "    }\n",
       "\n",
       "    .dataframe tbody tr th {\n",
       "        vertical-align: top;\n",
       "    }\n",
       "\n",
       "    .dataframe thead th {\n",
       "        text-align: right;\n",
       "    }\n",
       "</style>\n",
       "<table border=\"1\" class=\"dataframe\">\n",
       "  <thead>\n",
       "    <tr style=\"text-align: right;\">\n",
       "      <th></th>\n",
       "      <th>loan_amnt</th>\n",
       "      <th>term</th>\n",
       "      <th>int_rate</th>\n",
       "      <th>grade</th>\n",
       "      <th>sub_grade</th>\n",
       "      <th>home_ownership</th>\n",
       "      <th>annual_inc</th>\n",
       "      <th>verification_status</th>\n",
       "      <th>pymnt_plan</th>\n",
       "      <th>purpose</th>\n",
       "      <th>...</th>\n",
       "      <th>default_ind</th>\n",
       "      <th>Source</th>\n",
       "      <th>last_credit_pull_d</th>\n",
       "      <th>last_pymnt_d</th>\n",
       "      <th>revol_util</th>\n",
       "      <th>tot_coll_amt</th>\n",
       "      <th>tot_cur_bal</th>\n",
       "      <th>total_rev_hi_lim</th>\n",
       "      <th>collections_12_mths_ex_med</th>\n",
       "      <th>emp_length</th>\n",
       "    </tr>\n",
       "  </thead>\n",
       "  <tbody>\n",
       "    <tr>\n",
       "      <th>0</th>\n",
       "      <td>16000</td>\n",
       "      <td>36</td>\n",
       "      <td>7.69</td>\n",
       "      <td>A</td>\n",
       "      <td>A4</td>\n",
       "      <td>MORTGAGE</td>\n",
       "      <td>70000.0</td>\n",
       "      <td>Source Verified</td>\n",
       "      <td>n</td>\n",
       "      <td>credit_card</td>\n",
       "      <td>...</td>\n",
       "      <td>0</td>\n",
       "      <td>train</td>\n",
       "      <td>Jan-16</td>\n",
       "      <td>Dec-15</td>\n",
       "      <td>37.4</td>\n",
       "      <td>170.0</td>\n",
       "      <td>307771.0</td>\n",
       "      <td>22100.0</td>\n",
       "      <td>0.0</td>\n",
       "      <td>10 plus year</td>\n",
       "    </tr>\n",
       "    <tr>\n",
       "      <th>1</th>\n",
       "      <td>8100</td>\n",
       "      <td>36</td>\n",
       "      <td>7.90</td>\n",
       "      <td>A</td>\n",
       "      <td>A4</td>\n",
       "      <td>RENT</td>\n",
       "      <td>105000.0</td>\n",
       "      <td>Not Verified</td>\n",
       "      <td>n</td>\n",
       "      <td>debt_consolidation</td>\n",
       "      <td>...</td>\n",
       "      <td>0</td>\n",
       "      <td>train</td>\n",
       "      <td>Jan-16</td>\n",
       "      <td>Dec-15</td>\n",
       "      <td>41.1</td>\n",
       "      <td>0.0</td>\n",
       "      <td>105703.0</td>\n",
       "      <td>101400.0</td>\n",
       "      <td>0.0</td>\n",
       "      <td>10 plus year</td>\n",
       "    </tr>\n",
       "    <tr>\n",
       "      <th>2</th>\n",
       "      <td>25000</td>\n",
       "      <td>36</td>\n",
       "      <td>7.12</td>\n",
       "      <td>A</td>\n",
       "      <td>A3</td>\n",
       "      <td>MORTGAGE</td>\n",
       "      <td>118000.0</td>\n",
       "      <td>Verified</td>\n",
       "      <td>n</td>\n",
       "      <td>debt_consolidation</td>\n",
       "      <td>...</td>\n",
       "      <td>0</td>\n",
       "      <td>train</td>\n",
       "      <td>Jan-16</td>\n",
       "      <td>Dec-15</td>\n",
       "      <td>45.9</td>\n",
       "      <td>0.0</td>\n",
       "      <td>467473.0</td>\n",
       "      <td>379000.0</td>\n",
       "      <td>0.0</td>\n",
       "      <td>10 plus year</td>\n",
       "    </tr>\n",
       "    <tr>\n",
       "      <th>3</th>\n",
       "      <td>20000</td>\n",
       "      <td>36</td>\n",
       "      <td>14.65</td>\n",
       "      <td>C</td>\n",
       "      <td>C5</td>\n",
       "      <td>MORTGAGE</td>\n",
       "      <td>107500.0</td>\n",
       "      <td>Verified</td>\n",
       "      <td>n</td>\n",
       "      <td>home_improvement</td>\n",
       "      <td>...</td>\n",
       "      <td>0</td>\n",
       "      <td>train</td>\n",
       "      <td>Jan-16</td>\n",
       "      <td>Jan-16</td>\n",
       "      <td>97.4</td>\n",
       "      <td>0.0</td>\n",
       "      <td>506918.0</td>\n",
       "      <td>10300.0</td>\n",
       "      <td>0.0</td>\n",
       "      <td>6 years</td>\n",
       "    </tr>\n",
       "    <tr>\n",
       "      <th>4</th>\n",
       "      <td>13725</td>\n",
       "      <td>60</td>\n",
       "      <td>15.59</td>\n",
       "      <td>D</td>\n",
       "      <td>D1</td>\n",
       "      <td>RENT</td>\n",
       "      <td>120000.0</td>\n",
       "      <td>Source Verified</td>\n",
       "      <td>n</td>\n",
       "      <td>debt_consolidation</td>\n",
       "      <td>...</td>\n",
       "      <td>0</td>\n",
       "      <td>train</td>\n",
       "      <td>Jan-16</td>\n",
       "      <td>Jan-16</td>\n",
       "      <td>46.7</td>\n",
       "      <td>0.0</td>\n",
       "      <td>46611.0</td>\n",
       "      <td>4300.0</td>\n",
       "      <td>0.0</td>\n",
       "      <td>less than 1 year</td>\n",
       "    </tr>\n",
       "  </tbody>\n",
       "</table>\n",
       "<p>5 rows × 36 columns</p>\n",
       "</div>"
      ],
      "text/plain": [
       "   loan_amnt  term  int_rate grade sub_grade home_ownership  annual_inc  \\\n",
       "0      16000    36      7.69     A        A4       MORTGAGE     70000.0   \n",
       "1       8100    36      7.90     A        A4           RENT    105000.0   \n",
       "2      25000    36      7.12     A        A3       MORTGAGE    118000.0   \n",
       "3      20000    36     14.65     C        C5       MORTGAGE    107500.0   \n",
       "4      13725    60     15.59     D        D1           RENT    120000.0   \n",
       "\n",
       "  verification_status pymnt_plan             purpose        ...         \\\n",
       "0     Source Verified          n         credit_card        ...          \n",
       "1        Not Verified          n  debt_consolidation        ...          \n",
       "2            Verified          n  debt_consolidation        ...          \n",
       "3            Verified          n    home_improvement        ...          \n",
       "4     Source Verified          n  debt_consolidation        ...          \n",
       "\n",
       "  default_ind  Source  last_credit_pull_d  last_pymnt_d  revol_util  \\\n",
       "0           0   train              Jan-16        Dec-15        37.4   \n",
       "1           0   train              Jan-16        Dec-15        41.1   \n",
       "2           0   train              Jan-16        Dec-15        45.9   \n",
       "3           0   train              Jan-16        Jan-16        97.4   \n",
       "4           0   train              Jan-16        Jan-16        46.7   \n",
       "\n",
       "   tot_coll_amt  tot_cur_bal total_rev_hi_lim  collections_12_mths_ex_med  \\\n",
       "0         170.0     307771.0          22100.0                         0.0   \n",
       "1           0.0     105703.0         101400.0                         0.0   \n",
       "2           0.0     467473.0         379000.0                         0.0   \n",
       "3           0.0     506918.0          10300.0                         0.0   \n",
       "4           0.0      46611.0           4300.0                         0.0   \n",
       "\n",
       "         emp_length  \n",
       "0      10 plus year  \n",
       "1      10 plus year  \n",
       "2      10 plus year  \n",
       "3           6 years  \n",
       "4  less than 1 year  \n",
       "\n",
       "[5 rows x 36 columns]"
      ]
     },
     "execution_count": 5,
     "metadata": {},
     "output_type": "execute_result"
    }
   ],
   "source": [
    "train.head()"
   ]
  },
  {
   "cell_type": "code",
   "execution_count": 6,
   "metadata": {},
   "outputs": [
    {
     "data": {
      "text/plain": [
       "loan_amnt                       int64\n",
       "term                            int64\n",
       "int_rate                      float64\n",
       "grade                          object\n",
       "sub_grade                      object\n",
       "home_ownership                 object\n",
       "annual_inc                    float64\n",
       "verification_status            object\n",
       "pymnt_plan                     object\n",
       "purpose                        object\n",
       "addr_state                     object\n",
       "dti                           float64\n",
       "delinq_2yrs                     int64\n",
       "inq_last_6mths                  int64\n",
       "open_acc                        int64\n",
       "pub_rec                         int64\n",
       "total_acc                     float64\n",
       "initial_list_status            object\n",
       "out_prncp                     float64\n",
       "total_pymnt                   float64\n",
       "total_rec_int                 float64\n",
       "total_rec_late_fee              int64\n",
       "recoveries                      int64\n",
       "last_pymnt_amnt               float64\n",
       "application_type               object\n",
       "acc_now_delinq                  int64\n",
       "default_ind                     int64\n",
       "Source                         object\n",
       "last_credit_pull_d             object\n",
       "last_pymnt_d                   object\n",
       "revol_util                    float64\n",
       "tot_coll_amt                  float64\n",
       "tot_cur_bal                   float64\n",
       "total_rev_hi_lim              float64\n",
       "collections_12_mths_ex_med    float64\n",
       "emp_length                     object\n",
       "dtype: object"
      ]
     },
     "execution_count": 6,
     "metadata": {},
     "output_type": "execute_result"
    }
   ],
   "source": [
    "train.dtypes"
   ]
  },
  {
   "cell_type": "code",
   "execution_count": 7,
   "metadata": {},
   "outputs": [],
   "source": [
    "train['default_ind']=train['default_ind'].astype(str)\n",
    "#train['acc_now_delinq']=train['acc_now_delinq'].astype(str)\n",
    "#train.inq_last_6mths=train.inq_last_6mths.astype(str)\n",
    "train.term=train.term.astype(str)"
   ]
  },
  {
   "cell_type": "code",
   "execution_count": 8,
   "metadata": {},
   "outputs": [],
   "source": [
    "test['default_ind']=test['default_ind'].astype(str)\n",
    "#test['acc_now_delinq']=test['acc_now_delinq'].astype(str)\n",
    "#test.inq_last_6mths=test.inq_last_6mths.astype(str)\n",
    "test.term=test.term.astype(str)"
   ]
  },
  {
   "cell_type": "code",
   "execution_count": 9,
   "metadata": {},
   "outputs": [
    {
     "data": {
      "text/plain": [
       "loan_amnt                       int64\n",
       "term                           object\n",
       "int_rate                      float64\n",
       "grade                          object\n",
       "sub_grade                      object\n",
       "home_ownership                 object\n",
       "annual_inc                    float64\n",
       "verification_status            object\n",
       "pymnt_plan                     object\n",
       "purpose                        object\n",
       "addr_state                     object\n",
       "dti                           float64\n",
       "delinq_2yrs                     int64\n",
       "inq_last_6mths                  int64\n",
       "open_acc                        int64\n",
       "pub_rec                         int64\n",
       "total_acc                     float64\n",
       "initial_list_status            object\n",
       "out_prncp                     float64\n",
       "total_pymnt                   float64\n",
       "total_rec_int                 float64\n",
       "total_rec_late_fee              int64\n",
       "recoveries                      int64\n",
       "last_pymnt_amnt               float64\n",
       "application_type               object\n",
       "acc_now_delinq                  int64\n",
       "default_ind                    object\n",
       "Source                         object\n",
       "last_credit_pull_d             object\n",
       "last_pymnt_d                   object\n",
       "revol_util                    float64\n",
       "tot_coll_amt                  float64\n",
       "tot_cur_bal                   float64\n",
       "total_rev_hi_lim              float64\n",
       "collections_12_mths_ex_med    float64\n",
       "emp_length                     object\n",
       "dtype: object"
      ]
     },
     "execution_count": 9,
     "metadata": {},
     "output_type": "execute_result"
    }
   ],
   "source": [
    "train.dtypes"
   ]
  },
  {
   "cell_type": "code",
   "execution_count": 10,
   "metadata": {},
   "outputs": [
    {
     "data": {
      "text/plain": [
       "loan_amnt                       int64\n",
       "term                           object\n",
       "int_rate                      float64\n",
       "grade                          object\n",
       "sub_grade                      object\n",
       "home_ownership                 object\n",
       "annual_inc                    float64\n",
       "verification_status            object\n",
       "pymnt_plan                     object\n",
       "purpose                        object\n",
       "addr_state                     object\n",
       "dti                           float64\n",
       "delinq_2yrs                     int64\n",
       "inq_last_6mths                  int64\n",
       "open_acc                        int64\n",
       "pub_rec                         int64\n",
       "total_acc                     float64\n",
       "initial_list_status            object\n",
       "out_prncp                     float64\n",
       "total_pymnt                   float64\n",
       "total_rec_int                 float64\n",
       "total_rec_late_fee              int64\n",
       "recoveries                      int64\n",
       "last_pymnt_amnt               float64\n",
       "application_type               object\n",
       "acc_now_delinq                  int64\n",
       "default_ind                    object\n",
       "Source                         object\n",
       "last_credit_pull_d             object\n",
       "last_pymnt_d                   object\n",
       "revol_util                    float64\n",
       "tot_coll_amt                  float64\n",
       "tot_cur_bal                   float64\n",
       "total_rev_hi_lim              float64\n",
       "collections_12_mths_ex_med    float64\n",
       "emp_length                     object\n",
       "dtype: object"
      ]
     },
     "execution_count": 10,
     "metadata": {},
     "output_type": "execute_result"
    }
   ],
   "source": [
    "test.dtypes"
   ]
  },
  {
   "cell_type": "code",
   "execution_count": 11,
   "metadata": {},
   "outputs": [],
   "source": [
    "train['Source']='Train'\n",
    "test['Source']='Test'"
   ]
  },
  {
   "cell_type": "code",
   "execution_count": 12,
   "metadata": {},
   "outputs": [],
   "source": [
    "fulldata=pd.concat([train,test],axis=0)"
   ]
  },
  {
   "cell_type": "code",
   "execution_count": 13,
   "metadata": {},
   "outputs": [
    {
     "data": {
      "text/plain": [
       "loan_amnt                       int64\n",
       "term                           object\n",
       "int_rate                      float64\n",
       "grade                          object\n",
       "sub_grade                      object\n",
       "home_ownership                 object\n",
       "annual_inc                    float64\n",
       "verification_status            object\n",
       "pymnt_plan                     object\n",
       "purpose                        object\n",
       "addr_state                     object\n",
       "dti                           float64\n",
       "delinq_2yrs                     int64\n",
       "inq_last_6mths                  int64\n",
       "open_acc                        int64\n",
       "pub_rec                         int64\n",
       "total_acc                     float64\n",
       "initial_list_status            object\n",
       "out_prncp                     float64\n",
       "total_pymnt                   float64\n",
       "total_rec_int                 float64\n",
       "total_rec_late_fee              int64\n",
       "recoveries                      int64\n",
       "last_pymnt_amnt               float64\n",
       "application_type               object\n",
       "acc_now_delinq                  int64\n",
       "default_ind                    object\n",
       "Source                         object\n",
       "last_credit_pull_d             object\n",
       "last_pymnt_d                   object\n",
       "revol_util                    float64\n",
       "tot_coll_amt                  float64\n",
       "tot_cur_bal                   float64\n",
       "total_rev_hi_lim              float64\n",
       "collections_12_mths_ex_med    float64\n",
       "emp_length                     object\n",
       "dtype: object"
      ]
     },
     "execution_count": 13,
     "metadata": {},
     "output_type": "execute_result"
    }
   ],
   "source": [
    "fulldata.dtypes"
   ]
  },
  {
   "cell_type": "code",
   "execution_count": 14,
   "metadata": {},
   "outputs": [],
   "source": [
    "li=['term',\n",
    " 'sub_grade',\n",
    " 'emp_length',\n",
    " 'home_ownership',\n",
    " 'verification_status',\n",
    " 'pymnt_plan',\n",
    " 'purpose',\n",
    " 'addr_state',\n",
    " 'initial_list_status',\n",
    " 'last_pymnt_d',\n",
    " 'next_pymnt_d',\n",
    " 'last_credit_pull_d',\n",
    " 'application_type']"
   ]
  },
  {
   "cell_type": "code",
   "execution_count": 15,
   "metadata": {},
   "outputs": [
    {
     "name": "stdout",
     "output_type": "stream",
     "text": [
      "True\n",
      "True\n",
      "True\n",
      "True\n",
      "True\n",
      "True\n",
      "True\n",
      "True\n",
      "True\n",
      "True\n",
      "False\n",
      "True\n",
      "True\n"
     ]
    }
   ],
   "source": [
    "for c in li:\n",
    "    print(c in list(fulldata))"
   ]
  },
  {
   "cell_type": "code",
   "execution_count": 16,
   "metadata": {},
   "outputs": [],
   "source": [
    "cat_vars=[]\n",
    "for cols in list(fulldata):\n",
    "    if(fulldata[cols].dtype==object):\n",
    "        cat_vars.append(cols)"
   ]
  },
  {
   "cell_type": "code",
   "execution_count": 17,
   "metadata": {},
   "outputs": [],
   "source": [
    "cont_var=[]\n",
    "for cols in list(fulldata):\n",
    "    if(fulldata[cols].dtype!=object):\n",
    "        cont_var.append(cols)"
   ]
  },
  {
   "cell_type": "code",
   "execution_count": 18,
   "metadata": {},
   "outputs": [
    {
     "data": {
      "text/plain": [
       "['loan_amnt',\n",
       " 'int_rate',\n",
       " 'annual_inc',\n",
       " 'dti',\n",
       " 'delinq_2yrs',\n",
       " 'inq_last_6mths',\n",
       " 'open_acc',\n",
       " 'pub_rec',\n",
       " 'total_acc',\n",
       " 'out_prncp',\n",
       " 'total_pymnt',\n",
       " 'total_rec_int',\n",
       " 'total_rec_late_fee',\n",
       " 'recoveries',\n",
       " 'last_pymnt_amnt',\n",
       " 'acc_now_delinq',\n",
       " 'revol_util',\n",
       " 'tot_coll_amt',\n",
       " 'tot_cur_bal',\n",
       " 'total_rev_hi_lim',\n",
       " 'collections_12_mths_ex_med']"
      ]
     },
     "execution_count": 18,
     "metadata": {},
     "output_type": "execute_result"
    }
   ],
   "source": [
    "cont_var"
   ]
  },
  {
   "cell_type": "code",
   "execution_count": 19,
   "metadata": {},
   "outputs": [
    {
     "data": {
      "text/plain": [
       "['term',\n",
       " 'grade',\n",
       " 'sub_grade',\n",
       " 'home_ownership',\n",
       " 'verification_status',\n",
       " 'pymnt_plan',\n",
       " 'purpose',\n",
       " 'addr_state',\n",
       " 'initial_list_status',\n",
       " 'application_type',\n",
       " 'default_ind',\n",
       " 'Source',\n",
       " 'last_credit_pull_d',\n",
       " 'last_pymnt_d',\n",
       " 'emp_length']"
      ]
     },
     "execution_count": 19,
     "metadata": {},
     "output_type": "execute_result"
    }
   ],
   "source": [
    "cat_vars"
   ]
  },
  {
   "cell_type": "code",
   "execution_count": 20,
   "metadata": {},
   "outputs": [],
   "source": [
    "drop_cols=cat_vars"
   ]
  },
  {
   "cell_type": "code",
   "execution_count": 21,
   "metadata": {},
   "outputs": [],
   "source": [
    "drop_cols.remove('Source')\n",
    "drop_cols.remove('default_ind')"
   ]
  },
  {
   "cell_type": "code",
   "execution_count": 22,
   "metadata": {},
   "outputs": [
    {
     "data": {
      "text/html": [
       "<div>\n",
       "<style scoped>\n",
       "    .dataframe tbody tr th:only-of-type {\n",
       "        vertical-align: middle;\n",
       "    }\n",
       "\n",
       "    .dataframe tbody tr th {\n",
       "        vertical-align: top;\n",
       "    }\n",
       "\n",
       "    .dataframe thead th {\n",
       "        text-align: right;\n",
       "    }\n",
       "</style>\n",
       "<table border=\"1\" class=\"dataframe\">\n",
       "  <thead>\n",
       "    <tr style=\"text-align: right;\">\n",
       "      <th></th>\n",
       "      <th>loan_amnt</th>\n",
       "      <th>term</th>\n",
       "      <th>int_rate</th>\n",
       "      <th>grade</th>\n",
       "      <th>sub_grade</th>\n",
       "      <th>home_ownership</th>\n",
       "      <th>annual_inc</th>\n",
       "      <th>verification_status</th>\n",
       "      <th>pymnt_plan</th>\n",
       "      <th>purpose</th>\n",
       "      <th>...</th>\n",
       "      <th>default_ind</th>\n",
       "      <th>Source</th>\n",
       "      <th>last_credit_pull_d</th>\n",
       "      <th>last_pymnt_d</th>\n",
       "      <th>revol_util</th>\n",
       "      <th>tot_coll_amt</th>\n",
       "      <th>tot_cur_bal</th>\n",
       "      <th>total_rev_hi_lim</th>\n",
       "      <th>collections_12_mths_ex_med</th>\n",
       "      <th>emp_length</th>\n",
       "    </tr>\n",
       "  </thead>\n",
       "  <tbody>\n",
       "    <tr>\n",
       "      <th>0</th>\n",
       "      <td>16000</td>\n",
       "      <td>36</td>\n",
       "      <td>7.69</td>\n",
       "      <td>A</td>\n",
       "      <td>A4</td>\n",
       "      <td>MORTGAGE</td>\n",
       "      <td>70000.0</td>\n",
       "      <td>Source Verified</td>\n",
       "      <td>n</td>\n",
       "      <td>credit_card</td>\n",
       "      <td>...</td>\n",
       "      <td>0</td>\n",
       "      <td>Train</td>\n",
       "      <td>Jan-16</td>\n",
       "      <td>Dec-15</td>\n",
       "      <td>37.4</td>\n",
       "      <td>170.0</td>\n",
       "      <td>307771.0</td>\n",
       "      <td>22100.0</td>\n",
       "      <td>0.0</td>\n",
       "      <td>10 plus year</td>\n",
       "    </tr>\n",
       "    <tr>\n",
       "      <th>1</th>\n",
       "      <td>8100</td>\n",
       "      <td>36</td>\n",
       "      <td>7.90</td>\n",
       "      <td>A</td>\n",
       "      <td>A4</td>\n",
       "      <td>RENT</td>\n",
       "      <td>105000.0</td>\n",
       "      <td>Not Verified</td>\n",
       "      <td>n</td>\n",
       "      <td>debt_consolidation</td>\n",
       "      <td>...</td>\n",
       "      <td>0</td>\n",
       "      <td>Train</td>\n",
       "      <td>Jan-16</td>\n",
       "      <td>Dec-15</td>\n",
       "      <td>41.1</td>\n",
       "      <td>0.0</td>\n",
       "      <td>105703.0</td>\n",
       "      <td>101400.0</td>\n",
       "      <td>0.0</td>\n",
       "      <td>10 plus year</td>\n",
       "    </tr>\n",
       "    <tr>\n",
       "      <th>2</th>\n",
       "      <td>25000</td>\n",
       "      <td>36</td>\n",
       "      <td>7.12</td>\n",
       "      <td>A</td>\n",
       "      <td>A3</td>\n",
       "      <td>MORTGAGE</td>\n",
       "      <td>118000.0</td>\n",
       "      <td>Verified</td>\n",
       "      <td>n</td>\n",
       "      <td>debt_consolidation</td>\n",
       "      <td>...</td>\n",
       "      <td>0</td>\n",
       "      <td>Train</td>\n",
       "      <td>Jan-16</td>\n",
       "      <td>Dec-15</td>\n",
       "      <td>45.9</td>\n",
       "      <td>0.0</td>\n",
       "      <td>467473.0</td>\n",
       "      <td>379000.0</td>\n",
       "      <td>0.0</td>\n",
       "      <td>10 plus year</td>\n",
       "    </tr>\n",
       "    <tr>\n",
       "      <th>3</th>\n",
       "      <td>20000</td>\n",
       "      <td>36</td>\n",
       "      <td>14.65</td>\n",
       "      <td>C</td>\n",
       "      <td>C5</td>\n",
       "      <td>MORTGAGE</td>\n",
       "      <td>107500.0</td>\n",
       "      <td>Verified</td>\n",
       "      <td>n</td>\n",
       "      <td>home_improvement</td>\n",
       "      <td>...</td>\n",
       "      <td>0</td>\n",
       "      <td>Train</td>\n",
       "      <td>Jan-16</td>\n",
       "      <td>Jan-16</td>\n",
       "      <td>97.4</td>\n",
       "      <td>0.0</td>\n",
       "      <td>506918.0</td>\n",
       "      <td>10300.0</td>\n",
       "      <td>0.0</td>\n",
       "      <td>6 years</td>\n",
       "    </tr>\n",
       "    <tr>\n",
       "      <th>4</th>\n",
       "      <td>13725</td>\n",
       "      <td>60</td>\n",
       "      <td>15.59</td>\n",
       "      <td>D</td>\n",
       "      <td>D1</td>\n",
       "      <td>RENT</td>\n",
       "      <td>120000.0</td>\n",
       "      <td>Source Verified</td>\n",
       "      <td>n</td>\n",
       "      <td>debt_consolidation</td>\n",
       "      <td>...</td>\n",
       "      <td>0</td>\n",
       "      <td>Train</td>\n",
       "      <td>Jan-16</td>\n",
       "      <td>Jan-16</td>\n",
       "      <td>46.7</td>\n",
       "      <td>0.0</td>\n",
       "      <td>46611.0</td>\n",
       "      <td>4300.0</td>\n",
       "      <td>0.0</td>\n",
       "      <td>less than 1 year</td>\n",
       "    </tr>\n",
       "  </tbody>\n",
       "</table>\n",
       "<p>5 rows × 36 columns</p>\n",
       "</div>"
      ],
      "text/plain": [
       "   loan_amnt term  int_rate grade sub_grade home_ownership  annual_inc  \\\n",
       "0      16000   36      7.69     A        A4       MORTGAGE     70000.0   \n",
       "1       8100   36      7.90     A        A4           RENT    105000.0   \n",
       "2      25000   36      7.12     A        A3       MORTGAGE    118000.0   \n",
       "3      20000   36     14.65     C        C5       MORTGAGE    107500.0   \n",
       "4      13725   60     15.59     D        D1           RENT    120000.0   \n",
       "\n",
       "  verification_status pymnt_plan             purpose        ...         \\\n",
       "0     Source Verified          n         credit_card        ...          \n",
       "1        Not Verified          n  debt_consolidation        ...          \n",
       "2            Verified          n  debt_consolidation        ...          \n",
       "3            Verified          n    home_improvement        ...          \n",
       "4     Source Verified          n  debt_consolidation        ...          \n",
       "\n",
       "  default_ind  Source  last_credit_pull_d  last_pymnt_d  revol_util  \\\n",
       "0           0   Train              Jan-16        Dec-15        37.4   \n",
       "1           0   Train              Jan-16        Dec-15        41.1   \n",
       "2           0   Train              Jan-16        Dec-15        45.9   \n",
       "3           0   Train              Jan-16        Jan-16        97.4   \n",
       "4           0   Train              Jan-16        Jan-16        46.7   \n",
       "\n",
       "   tot_coll_amt  tot_cur_bal total_rev_hi_lim  collections_12_mths_ex_med  \\\n",
       "0         170.0     307771.0          22100.0                         0.0   \n",
       "1           0.0     105703.0         101400.0                         0.0   \n",
       "2           0.0     467473.0         379000.0                         0.0   \n",
       "3           0.0     506918.0          10300.0                         0.0   \n",
       "4           0.0      46611.0           4300.0                         0.0   \n",
       "\n",
       "         emp_length  \n",
       "0      10 plus year  \n",
       "1      10 plus year  \n",
       "2      10 plus year  \n",
       "3           6 years  \n",
       "4  less than 1 year  \n",
       "\n",
       "[5 rows x 36 columns]"
      ]
     },
     "execution_count": 22,
     "metadata": {},
     "output_type": "execute_result"
    }
   ],
   "source": [
    "fulldata.head()"
   ]
  },
  {
   "cell_type": "code",
   "execution_count": 23,
   "metadata": {},
   "outputs": [],
   "source": [
    "dummy=pd.get_dummies(fulldata[drop_cols])"
   ]
  },
  {
   "cell_type": "code",
   "execution_count": 24,
   "metadata": {},
   "outputs": [
    {
     "data": {
      "text/plain": [
       "(487771, 329)"
      ]
     },
     "execution_count": 24,
     "metadata": {},
     "output_type": "execute_result"
    }
   ],
   "source": [
    "dummy.shape"
   ]
  },
  {
   "cell_type": "code",
   "execution_count": 25,
   "metadata": {},
   "outputs": [],
   "source": [
    "fulldata1=fulldata.drop(drop_cols,axis=1)"
   ]
  },
  {
   "cell_type": "code",
   "execution_count": 26,
   "metadata": {},
   "outputs": [],
   "source": [
    "fulldata1=pd.concat([fulldata1,dummy],axis=1)"
   ]
  },
  {
   "cell_type": "code",
   "execution_count": 27,
   "metadata": {},
   "outputs": [
    {
     "data": {
      "text/plain": [
       "loan_amnt                        int64\n",
       "int_rate                       float64\n",
       "annual_inc                     float64\n",
       "dti                            float64\n",
       "delinq_2yrs                      int64\n",
       "inq_last_6mths                   int64\n",
       "open_acc                         int64\n",
       "pub_rec                          int64\n",
       "total_acc                      float64\n",
       "out_prncp                      float64\n",
       "total_pymnt                    float64\n",
       "total_rec_int                  float64\n",
       "total_rec_late_fee               int64\n",
       "recoveries                       int64\n",
       "last_pymnt_amnt                float64\n",
       "acc_now_delinq                   int64\n",
       "default_ind                     object\n",
       "Source                          object\n",
       "revol_util                     float64\n",
       "tot_coll_amt                   float64\n",
       "tot_cur_bal                    float64\n",
       "total_rev_hi_lim               float64\n",
       "collections_12_mths_ex_med     float64\n",
       "term_36                          uint8\n",
       "term_60                          uint8\n",
       "grade_A                          uint8\n",
       "grade_B                          uint8\n",
       "grade_C                          uint8\n",
       "grade_D                          uint8\n",
       "grade_E                          uint8\n",
       "                                ...   \n",
       "last_pymnt_d_Nov-13              uint8\n",
       "last_pymnt_d_Nov-14              uint8\n",
       "last_pymnt_d_Nov-15              uint8\n",
       "last_pymnt_d_Oct-08              uint8\n",
       "last_pymnt_d_Oct-09              uint8\n",
       "last_pymnt_d_Oct-10              uint8\n",
       "last_pymnt_d_Oct-11              uint8\n",
       "last_pymnt_d_Oct-12              uint8\n",
       "last_pymnt_d_Oct-13              uint8\n",
       "last_pymnt_d_Oct-14              uint8\n",
       "last_pymnt_d_Oct-15              uint8\n",
       "last_pymnt_d_Sep-08              uint8\n",
       "last_pymnt_d_Sep-09              uint8\n",
       "last_pymnt_d_Sep-10              uint8\n",
       "last_pymnt_d_Sep-11              uint8\n",
       "last_pymnt_d_Sep-12              uint8\n",
       "last_pymnt_d_Sep-13              uint8\n",
       "last_pymnt_d_Sep-14              uint8\n",
       "last_pymnt_d_Sep-15              uint8\n",
       "emp_length_1 year                uint8\n",
       "emp_length_10 plus year          uint8\n",
       "emp_length_2 years               uint8\n",
       "emp_length_3 years               uint8\n",
       "emp_length_4 years               uint8\n",
       "emp_length_5 years               uint8\n",
       "emp_length_6 years               uint8\n",
       "emp_length_7 years               uint8\n",
       "emp_length_8 years               uint8\n",
       "emp_length_9 years               uint8\n",
       "emp_length_less than 1 year      uint8\n",
       "Length: 352, dtype: object"
      ]
     },
     "execution_count": 27,
     "metadata": {},
     "output_type": "execute_result"
    }
   ],
   "source": [
    "fulldata1.dtypes"
   ]
  },
  {
   "cell_type": "code",
   "execution_count": 28,
   "metadata": {},
   "outputs": [
    {
     "data": {
      "text/plain": [
       "(487771, 352)"
      ]
     },
     "execution_count": 28,
     "metadata": {},
     "output_type": "execute_result"
    }
   ],
   "source": [
    "fulldata1.shape"
   ]
  },
  {
   "cell_type": "code",
   "execution_count": 29,
   "metadata": {},
   "outputs": [],
   "source": [
    "#fulldata1.to_csv('dummified_f.csv',index=False)"
   ]
  },
  {
   "cell_type": "code",
   "execution_count": 30,
   "metadata": {},
   "outputs": [],
   "source": [
    "final_train=fulldata1[fulldata1.Source=='Train']"
   ]
  },
  {
   "cell_type": "code",
   "execution_count": 31,
   "metadata": {},
   "outputs": [],
   "source": [
    "final_test=fulldata1[fulldata1.Source=='Test']"
   ]
  },
  {
   "cell_type": "code",
   "execution_count": 32,
   "metadata": {},
   "outputs": [
    {
     "data": {
      "text/plain": [
       "(230780, 352)"
      ]
     },
     "execution_count": 32,
     "metadata": {},
     "output_type": "execute_result"
    }
   ],
   "source": [
    "final_train.shape"
   ]
  },
  {
   "cell_type": "code",
   "execution_count": 33,
   "metadata": {},
   "outputs": [
    {
     "data": {
      "text/plain": [
       "(256991, 352)"
      ]
     },
     "execution_count": 33,
     "metadata": {},
     "output_type": "execute_result"
    }
   ],
   "source": [
    "final_test.shape"
   ]
  },
  {
   "cell_type": "code",
   "execution_count": 34,
   "metadata": {},
   "outputs": [
    {
     "data": {
      "text/plain": [
       "True"
      ]
     },
     "execution_count": 34,
     "metadata": {},
     "output_type": "execute_result"
    }
   ],
   "source": [
    "'Source' in list(final_test)"
   ]
  },
  {
   "cell_type": "code",
   "execution_count": 35,
   "metadata": {},
   "outputs": [
    {
     "data": {
      "text/plain": [
       "True"
      ]
     },
     "execution_count": 35,
     "metadata": {},
     "output_type": "execute_result"
    }
   ],
   "source": [
    "'Source' in list(final_train)"
   ]
  },
  {
   "cell_type": "markdown",
   "metadata": {},
   "source": [
    "# modelling"
   ]
  },
  {
   "cell_type": "code",
   "execution_count": 36,
   "metadata": {},
   "outputs": [],
   "source": [
    "train_x=final_train.drop(['default_ind','Source'],axis=1).copy()\n",
    "train_y=final_train['default_ind'].copy()\n",
    "test_x=final_test.drop(['default_ind','Source'],axis=1).copy()\n",
    "test_y=final_test['default_ind'].copy()"
   ]
  },
  {
   "cell_type": "code",
   "execution_count": 37,
   "metadata": {},
   "outputs": [],
   "source": [
    "#M1"
   ]
  },
  {
   "cell_type": "code",
   "execution_count": 38,
   "metadata": {},
   "outputs": [
    {
     "name": "stderr",
     "output_type": "stream",
     "text": [
      "C:\\ProgramData\\Anaconda3\\lib\\site-packages\\sklearn\\ensemble\\forest.py:246: FutureWarning: The default value of n_estimators will change from 10 in version 0.20 to 100 in 0.22.\n",
      "  \"10 in version 0.20 to 100 in 0.22.\", FutureWarning)\n"
     ]
    },
    {
     "data": {
      "text/plain": [
       "['loan_amnt',\n",
       " 'int_rate',\n",
       " 'annual_inc',\n",
       " 'dti',\n",
       " 'inq_last_6mths',\n",
       " 'open_acc',\n",
       " 'total_acc',\n",
       " 'out_prncp',\n",
       " 'total_pymnt',\n",
       " 'total_rec_int',\n",
       " 'last_pymnt_amnt',\n",
       " 'revol_util',\n",
       " 'tot_cur_bal',\n",
       " 'total_rev_hi_lim',\n",
       " 'term_36',\n",
       " 'term_60',\n",
       " 'grade_A',\n",
       " 'verification_status_Not Verified',\n",
       " 'initial_list_status_f',\n",
       " 'initial_list_status_w',\n",
       " 'last_credit_pull_d_Dec-15',\n",
       " 'last_credit_pull_d_Jan-16',\n",
       " 'last_credit_pull_d_Nov-15',\n",
       " 'last_credit_pull_d_Oct-15',\n",
       " 'last_pymnt_d_Aug-15',\n",
       " 'last_pymnt_d_Dec-14',\n",
       " 'last_pymnt_d_Dec-15',\n",
       " 'last_pymnt_d_Jan-16',\n",
       " 'last_pymnt_d_Jul-15',\n",
       " 'last_pymnt_d_Jun-15',\n",
       " 'last_pymnt_d_Mar-15',\n",
       " 'last_pymnt_d_May-15',\n",
       " 'last_pymnt_d_Nov-15',\n",
       " 'last_pymnt_d_Oct-15',\n",
       " 'last_pymnt_d_Sep-15']"
      ]
     },
     "execution_count": 38,
     "metadata": {},
     "output_type": "execute_result"
    }
   ],
   "source": [
    "from sklearn.ensemble import RandomForestClassifier\n",
    "from sklearn.feature_selection import SelectFromModel\n",
    "features = train_x\n",
    "label = train_y\n",
    "clf = RandomForestClassifier(random_state = 42)\n",
    "clf = clf.fit(features, label)\n",
    "model = SelectFromModel(clf, prefit=True)\n",
    "feature_idx = model.get_support()\n",
    "feature_name = train_x.columns[feature_idx]\n",
    "list(feature_name)"
   ]
  },
  {
   "cell_type": "code",
   "execution_count": 39,
   "metadata": {},
   "outputs": [],
   "source": [
    "list1=['loan_amnt',\n",
    " 'int_rate',\n",
    " 'annual_inc',\n",
    " 'dti',\n",
    " 'open_acc',\n",
    " 'total_acc',\n",
    " 'out_prncp',\n",
    " 'total_pymnt',\n",
    " 'total_rec_int',\n",
    " 'last_pymnt_amnt',\n",
    " 'revol_util',\n",
    " 'tot_cur_bal',\n",
    " 'total_rev_hi_lim',\n",
    " 'term_36',\n",
    " 'term_60',\n",
    " 'grade_A',\n",
    " 'initial_list_status_f',\n",
    " 'last_credit_pull_d_Dec-15',\n",
    " 'last_credit_pull_d_Jan-16',\n",
    " 'last_credit_pull_d_Nov-15',\n",
    " 'last_credit_pull_d_Oct-15',\n",
    " 'last_pymnt_d_Apr-15',\n",
    " 'last_pymnt_d_Aug-15',\n",
    " 'last_pymnt_d_Dec-15',\n",
    " 'last_pymnt_d_Jan-16',\n",
    " 'last_pymnt_d_Jul-15',\n",
    " 'last_pymnt_d_Jun-15',\n",
    " 'last_pymnt_d_Nov-15',\n",
    " 'last_pymnt_d_Oct-15',\n",
    " 'last_pymnt_d_Sep-15']"
   ]
  },
  {
   "cell_type": "code",
   "execution_count": 40,
   "metadata": {},
   "outputs": [],
   "source": [
    "train_x_f1=train_x[list1]"
   ]
  },
  {
   "cell_type": "code",
   "execution_count": 41,
   "metadata": {},
   "outputs": [],
   "source": [
    "#left here"
   ]
  },
  {
   "cell_type": "code",
   "execution_count": 42,
   "metadata": {},
   "outputs": [],
   "source": [
    "train_y_f1=train_y"
   ]
  },
  {
   "cell_type": "code",
   "execution_count": 43,
   "metadata": {},
   "outputs": [],
   "source": [
    "test_x_f1=test_x[list1]\n",
    "test_y_f1=test_y"
   ]
  },
  {
   "cell_type": "code",
   "execution_count": 44,
   "metadata": {},
   "outputs": [],
   "source": [
    "M1_Model = clf.fit(train_x_f1, train_y_f1)"
   ]
  },
  {
   "cell_type": "code",
   "execution_count": 45,
   "metadata": {},
   "outputs": [],
   "source": [
    "Test_Pred = clf.predict(test_x_f1)"
   ]
  },
  {
   "cell_type": "code",
   "execution_count": 46,
   "metadata": {},
   "outputs": [
    {
     "data": {
      "text/plain": [
       "array(['0', '0', '0', ..., '0', '0', '0'], dtype=object)"
      ]
     },
     "execution_count": 46,
     "metadata": {},
     "output_type": "execute_result"
    }
   ],
   "source": [
    "Test_Pred"
   ]
  },
  {
   "cell_type": "code",
   "execution_count": 59,
   "metadata": {},
   "outputs": [
    {
     "data": {
      "text/plain": [
       "array([[248574,   8106],\n",
       "       [     5,    306]], dtype=int64)"
      ]
     },
     "execution_count": 59,
     "metadata": {},
     "output_type": "execute_result"
    }
   ],
   "source": [
    "from sklearn.metrics import confusion_matrix\n",
    "Confusion_Mat = confusion_matrix(test_y, Test_Pred) # R, C format (Actual = Test_Y, Predicted = Test_Pred)\n",
    "Confusion_Mat "
   ]
  },
  {
   "cell_type": "code",
   "execution_count": 48,
   "metadata": {},
   "outputs": [],
   "source": [
    "from sklearn.metrics import roc_curve, auc"
   ]
  },
  {
   "cell_type": "markdown",
   "metadata": {},
   "source": [
    "# model 2"
   ]
  },
  {
   "cell_type": "code",
   "execution_count": 60,
   "metadata": {},
   "outputs": [],
   "source": [
    "from sklearn.ensemble import ExtraTreesClassifier\n",
    "from sklearn.feature_selection import SelectFromModel"
   ]
  },
  {
   "cell_type": "code",
   "execution_count": 61,
   "metadata": {},
   "outputs": [],
   "source": [
    "x,y=train_x,train_y"
   ]
  },
  {
   "cell_type": "code",
   "execution_count": 62,
   "metadata": {},
   "outputs": [],
   "source": [
    "clf1 = ExtraTreesClassifier(n_estimators=50)"
   ]
  },
  {
   "cell_type": "code",
   "execution_count": 63,
   "metadata": {},
   "outputs": [],
   "source": [
    "clf1 = clf.fit(x, y)"
   ]
  },
  {
   "cell_type": "code",
   "execution_count": 66,
   "metadata": {},
   "outputs": [
    {
     "data": {
      "text/plain": [
       "['loan_amnt',\n",
       " 'int_rate',\n",
       " 'annual_inc',\n",
       " 'dti',\n",
       " 'inq_last_6mths',\n",
       " 'open_acc',\n",
       " 'total_acc',\n",
       " 'out_prncp',\n",
       " 'total_pymnt',\n",
       " 'total_rec_int',\n",
       " 'last_pymnt_amnt',\n",
       " 'revol_util',\n",
       " 'tot_cur_bal',\n",
       " 'total_rev_hi_lim',\n",
       " 'term_36',\n",
       " 'term_60',\n",
       " 'grade_A',\n",
       " 'grade_B',\n",
       " 'home_ownership_MORTGAGE',\n",
       " 'home_ownership_RENT',\n",
       " 'verification_status_Not Verified',\n",
       " 'verification_status_Source Verified',\n",
       " 'verification_status_Verified',\n",
       " 'purpose_credit_card',\n",
       " 'purpose_debt_consolidation',\n",
       " 'addr_state_CA',\n",
       " 'initial_list_status_f',\n",
       " 'initial_list_status_w',\n",
       " 'last_credit_pull_d_Dec-15',\n",
       " 'last_credit_pull_d_Jan-16',\n",
       " 'last_credit_pull_d_Nov-15',\n",
       " 'last_credit_pull_d_Oct-15',\n",
       " 'last_pymnt_d_Apr-15',\n",
       " 'last_pymnt_d_Aug-14',\n",
       " 'last_pymnt_d_Aug-15',\n",
       " 'last_pymnt_d_Dec-14',\n",
       " 'last_pymnt_d_Dec-15',\n",
       " 'last_pymnt_d_Feb-15',\n",
       " 'last_pymnt_d_Jan-15',\n",
       " 'last_pymnt_d_Jan-16',\n",
       " 'last_pymnt_d_Jul-14',\n",
       " 'last_pymnt_d_Jul-15',\n",
       " 'last_pymnt_d_Jun-15',\n",
       " 'last_pymnt_d_Mar-15',\n",
       " 'last_pymnt_d_May-15',\n",
       " 'last_pymnt_d_Nov-14',\n",
       " 'last_pymnt_d_Nov-15',\n",
       " 'last_pymnt_d_Oct-14',\n",
       " 'last_pymnt_d_Oct-15',\n",
       " 'last_pymnt_d_Sep-14',\n",
       " 'last_pymnt_d_Sep-15',\n",
       " 'emp_length_10 plus year']"
      ]
     },
     "execution_count": 66,
     "metadata": {},
     "output_type": "execute_result"
    }
   ],
   "source": [
    "model2 = SelectFromModel(clf1, prefit=True)\n",
    "feature_idx = model2.get_support()\n",
    "feature_name1 = train_x.columns[feature_idx]\n",
    "list(feature_name1)"
   ]
  },
  {
   "cell_type": "code",
   "execution_count": 67,
   "metadata": {},
   "outputs": [],
   "source": [
    "list_f=['loan_amnt',\n",
    " 'int_rate',\n",
    " 'annual_inc',\n",
    " 'dti',\n",
    " 'inq_last_6mths',\n",
    " 'open_acc',\n",
    " 'total_acc',\n",
    " 'out_prncp',\n",
    " 'total_pymnt',\n",
    " 'total_rec_int',\n",
    " 'last_pymnt_amnt',\n",
    " 'revol_util',\n",
    " 'tot_cur_bal',\n",
    " 'total_rev_hi_lim',\n",
    " 'term_36',\n",
    " 'term_60',\n",
    " 'grade_A',\n",
    " 'grade_B',\n",
    " 'home_ownership_MORTGAGE',\n",
    " 'home_ownership_RENT',\n",
    " 'verification_status_Not Verified',\n",
    " 'verification_status_Source Verified',\n",
    " 'verification_status_Verified',\n",
    " 'purpose_credit_card',\n",
    " 'purpose_debt_consolidation',\n",
    " 'addr_state_CA',\n",
    " 'initial_list_status_f',\n",
    " 'initial_list_status_w',\n",
    " 'last_credit_pull_d_Dec-15',\n",
    " 'last_credit_pull_d_Jan-16',\n",
    " 'last_credit_pull_d_Nov-15',\n",
    " 'last_credit_pull_d_Oct-15',\n",
    " 'last_pymnt_d_Apr-15',\n",
    " 'last_pymnt_d_Aug-14',\n",
    " 'last_pymnt_d_Aug-15',\n",
    " 'last_pymnt_d_Dec-14',\n",
    " 'last_pymnt_d_Dec-15',\n",
    " 'last_pymnt_d_Feb-15',\n",
    " 'last_pymnt_d_Jan-15',\n",
    " 'last_pymnt_d_Jan-16',\n",
    " 'last_pymnt_d_Jul-14',\n",
    " 'last_pymnt_d_Jul-15',\n",
    " 'last_pymnt_d_Jun-15',\n",
    " 'last_pymnt_d_Mar-15',\n",
    " 'last_pymnt_d_May-15',\n",
    " 'last_pymnt_d_Nov-14',\n",
    " 'last_pymnt_d_Nov-15',\n",
    " 'last_pymnt_d_Oct-14',\n",
    " 'last_pymnt_d_Oct-15',\n",
    " 'last_pymnt_d_Sep-14',\n",
    " 'last_pymnt_d_Sep-15',\n",
    " 'emp_length_10 plus year']"
   ]
  },
  {
   "cell_type": "code",
   "execution_count": null,
   "metadata": {},
   "outputs": [],
   "source": []
  },
  {
   "cell_type": "code",
   "execution_count": 53,
   "metadata": {},
   "outputs": [],
   "source": []
  },
  {
   "cell_type": "code",
   "execution_count": null,
   "metadata": {},
   "outputs": [],
   "source": []
  },
  {
   "cell_type": "code",
   "execution_count": 64,
   "metadata": {},
   "outputs": [],
   "source": [
    "pred_y2=clf1.predict(test_x)\n"
   ]
  },
  {
   "cell_type": "code",
   "execution_count": 65,
   "metadata": {},
   "outputs": [
    {
     "data": {
      "text/plain": [
       "array([[256632,     48],\n",
       "       [    66,    245]], dtype=int64)"
      ]
     },
     "execution_count": 65,
     "metadata": {},
     "output_type": "execute_result"
    }
   ],
   "source": [
    "from sklearn.metrics import confusion_matrix\n",
    "Confusion_Mat = confusion_matrix(test_y_f1,pred_y2) # R, C format (Actual = Test_Y, Predicted = Test_Pred)\n",
    "Confusion_Mat "
   ]
  },
  {
   "cell_type": "markdown",
   "metadata": {},
   "source": [
    "# logistic regression"
   ]
  },
  {
   "cell_type": "code",
   "execution_count": 68,
   "metadata": {},
   "outputs": [],
   "source": [
    "from statsmodels.api import Logit"
   ]
  },
  {
   "cell_type": "code",
   "execution_count": 69,
   "metadata": {},
   "outputs": [],
   "source": [
    "from sklearn.linear_model import LogisticRegression"
   ]
  },
  {
   "cell_type": "code",
   "execution_count": 70,
   "metadata": {},
   "outputs": [],
   "source": [
    "import numpy as np"
   ]
  },
  {
   "cell_type": "code",
   "execution_count": 71,
   "metadata": {},
   "outputs": [],
   "source": [
    "logreg = LogisticRegression()"
   ]
  },
  {
   "cell_type": "code",
   "execution_count": 72,
   "metadata": {},
   "outputs": [
    {
     "name": "stderr",
     "output_type": "stream",
     "text": [
      "C:\\ProgramData\\Anaconda3\\lib\\site-packages\\sklearn\\linear_model\\logistic.py:433: FutureWarning: Default solver will be changed to 'lbfgs' in 0.22. Specify a solver to silence this warning.\n",
      "  FutureWarning)\n"
     ]
    }
   ],
   "source": [
    "logistic1= logreg.fit(train_x,train_y)"
   ]
  },
  {
   "cell_type": "code",
   "execution_count": 73,
   "metadata": {},
   "outputs": [],
   "source": [
    "test_x1=test_x.copy()"
   ]
  },
  {
   "cell_type": "code",
   "execution_count": 74,
   "metadata": {},
   "outputs": [],
   "source": [
    "test_x1['pred']=logistic1.predict(test_x1)"
   ]
  },
  {
   "cell_type": "code",
   "execution_count": 75,
   "metadata": {},
   "outputs": [
    {
     "data": {
      "text/plain": [
       "array([[256607,     73],\n",
       "       [    64,    247]], dtype=int64)"
      ]
     },
     "execution_count": 75,
     "metadata": {},
     "output_type": "execute_result"
    }
   ],
   "source": [
    "from sklearn import metrics\n",
    "cnf_matrix = metrics.confusion_matrix(test_y, test_x1['pred'])\n",
    "cnf_matrix"
   ]
  },
  {
   "cell_type": "code",
   "execution_count": 76,
   "metadata": {},
   "outputs": [
    {
     "name": "stdout",
     "output_type": "stream",
     "text": [
      "Training set score: 0.972\n",
      "Test set score: 0.999\n"
     ]
    }
   ],
   "source": [
    "print(\"Training set score: {:.3f}\".format(logistic1.score(train_x,train_y)))\n",
    "print(\"Test set score: {:.3f}\".format(logistic1.score(test_x,test_y)))"
   ]
  },
  {
   "cell_type": "code",
   "execution_count": 77,
   "metadata": {},
   "outputs": [],
   "source": [
    "from sklearn.metrics import classification_report"
   ]
  },
  {
   "cell_type": "code",
   "execution_count": 79,
   "metadata": {},
   "outputs": [
    {
     "name": "stdout",
     "output_type": "stream",
     "text": [
      "              precision    recall  f1-score   support\n",
      "\n",
      "           0       1.00      1.00      1.00    256680\n",
      "           1       0.77      0.79      0.78       311\n",
      "\n",
      "   micro avg       1.00      1.00      1.00    256991\n",
      "   macro avg       0.89      0.90      0.89    256991\n",
      "weighted avg       1.00      1.00      1.00    256991\n",
      "\n"
     ]
    }
   ],
   "source": [
    "report=classification_report(test_y, test_x1['pred'])\n",
    "print(report)"
   ]
  },
  {
   "cell_type": "code",
   "execution_count": 80,
   "metadata": {},
   "outputs": [],
   "source": [
    "import numpy as np\n",
    "import matplotlib.pyplot as plt\n",
    "import seaborn as sns\n",
    "%matplotlib inline"
   ]
  },
  {
   "cell_type": "code",
   "execution_count": 82,
   "metadata": {},
   "outputs": [
    {
     "data": {
      "text/plain": [
       "Text(0.5, 257.44, 'Predicted label')"
      ]
     },
     "execution_count": 82,
     "metadata": {},
     "output_type": "execute_result"
    },
    {
     "data": {
      "image/png": "[encoded data removed]",
      "text/plain": [
       "<Figure size 432x288 with 2 Axes>"
      ]
     },
     "metadata": {
      "needs_background": "light"
     },
     "output_type": "display_data"
    }
   ],
   "source": [
    "class_names=[0,1] # name  of classes\n",
    "fig, ax = plt.subplots()\n",
    "tick_marks = np.arange(len(class_names))\n",
    "plt.xticks(tick_marks, class_names)\n",
    "plt.yticks(tick_marks, class_names)\n",
    "# create heatmap\n",
    "sns.heatmap(pd.DataFrame(cnf_matrix), annot=True, cmap=\"YlGnBu\" ,fmt='g')\n",
    "ax.xaxis.set_label_position(\"top\")\n",
    "plt.tight_layout()\n",
    "plt.title('Confusion matrix', y=1.1)\n",
    "plt.ylabel('Actual label')\n",
    "plt.xlabel('Predicted label')"
   ]
  },
  {
   "cell_type": "markdown",
   "metadata": {},
   "source": []
  },
  {
   "cell_type": "code",
   "execution_count": 83,
   "metadata": {},
   "outputs": [],
   "source": [
    "from sklearn.metrics import roc_curve, auc"
   ]
  },
  {
   "cell_type": "code",
   "execution_count": 86,
   "metadata": {},
   "outputs": [],
   "source": [
    "y_test_pred=logreg.predict_proba(test_x)[::,1]"
   ]
  },
  {
   "cell_type": "code",
   "execution_count": 87,
   "metadata": {},
   "outputs": [],
   "source": [
    "fpr, tpr, _ = metrics.roc_curve(test_y.astype(int),  test_x1['pred'].astype(int))"
   ]
  },
  {
   "cell_type": "code",
   "execution_count": 88,
   "metadata": {},
   "outputs": [],
   "source": [
    "auc = metrics.roc_auc_score(test_y, test_x1['pred'].astype(int))"
   ]
  },
  {
   "cell_type": "code",
   "execution_count": 89,
   "metadata": {},
   "outputs": [
    {
     "data": {
      "image/png": "[encoded data removed]",
      "text/plain": [
       "<Figure size 432x288 with 1 Axes>"
      ]
     },
     "metadata": {
      "needs_background": "light"
     },
     "output_type": "display_data"
    }
   ],
   "source": [
    "plt.plot(fpr,tpr,label=\"data 1, auc=\"+str(auc))\n",
    "plt.legend(loc=4)\n",
    "plt.show()"
   ]
  },
  {
   "cell_type": "markdown",
   "metadata": {},
   "source": [
    "# Logistic Model 2"
   ]
  },
  {
   "cell_type": "code",
   "execution_count": 90,
   "metadata": {},
   "outputs": [],
   "source": [
    "train_x2=train_x[list_f]\n",
    "train_y2=train_y\n",
    "test_x2=test_x[list_f]\n",
    "test_y2=test_y"
   ]
  },
  {
   "cell_type": "code",
   "execution_count": 91,
   "metadata": {},
   "outputs": [
    {
     "name": "stderr",
     "output_type": "stream",
     "text": [
      "C:\\ProgramData\\Anaconda3\\lib\\site-packages\\sklearn\\linear_model\\logistic.py:433: FutureWarning: Default solver will be changed to 'lbfgs' in 0.22. Specify a solver to silence this warning.\n",
      "  FutureWarning)\n"
     ]
    }
   ],
   "source": [
    "logistic2= logreg.fit(train_x2,train_y2)"
   ]
  },
  {
   "cell_type": "code",
   "execution_count": 92,
   "metadata": {},
   "outputs": [
    {
     "name": "stdout",
     "output_type": "stream",
     "text": [
      "Training set score: 0.973\n",
      "Test set score: 0.999\n"
     ]
    }
   ],
   "source": [
    "print(\"Training set score: {:.3f}\".format(logistic2.score(train_x2,train_y2)))\n",
    "print(\"Test set score: {:.3f}\".format(logistic2.score(test_x2,test_y2)))"
   ]
  },
  {
   "cell_type": "code",
   "execution_count": 93,
   "metadata": {},
   "outputs": [
    {
     "name": "stderr",
     "output_type": "stream",
     "text": [
      "C:\\ProgramData\\Anaconda3\\lib\\site-packages\\ipykernel_launcher.py:1: SettingWithCopyWarning: \n",
      "A value is trying to be set on a copy of a slice from a DataFrame.\n",
      "Try using .loc[row_indexer,col_indexer] = value instead\n",
      "\n",
      "See the caveats in the documentation: http://pandas.pydata.org/pandas-docs/stable/indexing.html#indexing-view-versus-copy\n",
      "  \"\"\"Entry point for launching an IPython kernel.\n"
     ]
    }
   ],
   "source": [
    "test_x2['pred']=logistic1.predict(test_x2)"
   ]
  },
  {
   "cell_type": "code",
   "execution_count": 94,
   "metadata": {},
   "outputs": [
    {
     "data": {
      "text/plain": [
       "array([[256608,     72],\n",
       "       [    64,    247]], dtype=int64)"
      ]
     },
     "execution_count": 94,
     "metadata": {},
     "output_type": "execute_result"
    }
   ],
   "source": [
    "from sklearn import metrics\n",
    "cnf_matrix2 = metrics.confusion_matrix(test_y2, test_x2['pred'])\n",
    "cnf_matrix2"
   ]
  },
  {
   "cell_type": "code",
   "execution_count": 97,
   "metadata": {},
   "outputs": [],
   "source": [
    "y_test_pred2=logreg.predict_proba(test_x2.drop('pred',axis=1))[::,1]"
   ]
  },
  {
   "cell_type": "code",
   "execution_count": 102,
   "metadata": {},
   "outputs": [],
   "source": [
    "fpr, tpr, threshold = metrics.roc_curve(test_y2.astype(int),  test_x2['pred'].astype(int))"
   ]
  },
  {
   "cell_type": "code",
   "execution_count": 103,
   "metadata": {},
   "outputs": [],
   "source": [
    "auc = metrics.roc_auc_score(test_y2, test_x2['pred'].astype(int))"
   ]
  },
  {
   "cell_type": "code",
   "execution_count": 104,
   "metadata": {},
   "outputs": [
    {
     "data": {
      "image/png": "[encoded data removed]",
      "text/plain": [
       "<Figure size 432x288 with 1 Axes>"
      ]
     },
     "metadata": {
      "needs_background": "light"
     },
     "output_type": "display_data"
    }
   ],
   "source": [
    "plt.plot(fpr,tpr,label=\"data 1, auc=\"+str(auc))\n",
    "plt.legend(loc=4)\n",
    "plt.show()"
   ]
  },
  {
   "cell_type": "code",
   "execution_count": 105,
   "metadata": {},
   "outputs": [
    {
     "data": {
      "text/plain": [
       "array([2, 1, 0])"
      ]
     },
     "execution_count": 105,
     "metadata": {},
     "output_type": "execute_result"
    }
   ],
   "source": [
    "threshold"
   ]
  },
  {
   "cell_type": "code",
   "execution_count": 109,
   "metadata": {},
   "outputs": [],
   "source": [
    "import pylab as pl"
   ]
  },
  {
   "cell_type": "code",
   "execution_count": 113,
   "metadata": {},
   "outputs": [],
   "source": [
    "import warnings\n",
    "#warnings.filterwarnings(\"ignore\", category=DeprecationWarning,RuntimeWarning) \n",
    "warnings.filterwarnings(\"ignore\") "
   ]
  },
  {
   "cell_type": "code",
   "execution_count": 114,
   "metadata": {
    "scrolled": false
   },
   "outputs": [
    {
     "name": "stdout",
     "output_type": "stream",
     "text": [
      "        fpr       tpr     1-fpr        tf  threshold\n",
      "1  0.000281  0.794212  0.999719 -0.205507          1\n"
     ]
    },
    {
     "data": {
      "text/plain": [
       "[]"
      ]
     },
     "execution_count": 114,
     "metadata": {},
     "output_type": "execute_result"
    },
    {
     "data": {
      "image/png": "[encoded data removed]",
      "text/plain": [
       "<Figure size 432x288 with 1 Axes>"
      ]
     },
     "metadata": {
      "needs_background": "light"
     },
     "output_type": "display_data"
    }
   ],
   "source": [
    "i = np.arange(len(tpr)) # index for df\n",
    "roc = pd.DataFrame({'fpr' : pd.Series(fpr, index=i),'tpr' : pd.Series(tpr, index = i), '1-fpr' : pd.Series(1-fpr, index = i), 'tf' : pd.Series(tpr - (1-fpr), index = i), 'threshold' : pd.Series(threshold, index = i)})\n",
    "roc.ix[(roc.tf-0).abs().argsort()[:1]]\n",
    "print(roc.ix[(roc.tf-0).abs().argsort()[:1]])\n",
    "# Plot tpr vs 1-fpr\n",
    "fig, ax = pl.subplots()\n",
    "pl.plot(roc['tpr'])\n",
    "pl.plot(roc['1-fpr'], color = 'red')\n",
    "pl.xlabel('1-False Positive Rate')\n",
    "pl.ylabel('True Positive Rate')\n",
    "pl.title('Receiver operating characteristic')\n",
    "ax.set_xticklabels([])"
   ]
  },
  {
   "cell_type": "code",
   "execution_count": 115,
   "metadata": {},
   "outputs": [
    {
     "name": "stdout",
     "output_type": "stream",
     "text": [
      "              precision    recall  f1-score   support\n",
      "\n",
      "           0       1.00      1.00      1.00    256680\n",
      "           1       0.77      0.79      0.78       311\n",
      "\n",
      "   micro avg       1.00      1.00      1.00    256991\n",
      "   macro avg       0.89      0.90      0.89    256991\n",
      "weighted avg       1.00      1.00      1.00    256991\n",
      "\n"
     ]
    }
   ],
   "source": [
    "report1=classification_report(test_y2, test_x2['pred'])\n",
    "print(report1)"
   ]
  },
  {
   "cell_type": "code",
   "execution_count": 116,
   "metadata": {},
   "outputs": [],
   "source": [
    "accuracy=((cnf_matrix2[0][0] + cnf_matrix2[1][1])/test_y2.shape[0])*100"
   ]
  },
  {
   "cell_type": "code",
   "execution_count": 117,
   "metadata": {},
   "outputs": [
    {
     "data": {
      "text/plain": [
       "99.94707985882773"
      ]
     },
     "execution_count": 117,
     "metadata": {},
     "output_type": "execute_result"
    }
   ],
   "source": [
    "accuracy"
   ]
  },
  {
   "cell_type": "markdown",
   "metadata": {},
   "source": [
    "# Final Outcome:\n",
    "    Accuracy=99.94%\n",
    "    Precision=77%\n",
    "    Recall=79%\n",
    "    f1-score=78%"
   ]
  },
  {
   "cell_type": "code",
   "execution_count": null,
   "metadata": {},
   "outputs": [],
   "source": [
    "final_test_pred_data=pd.concat([test_x1,test_y1,])"
   ]
  },
  {
   "cell_type": "code",
   "execution_count": 123,
   "metadata": {},
   "outputs": [],
   "source": [
    "df_f=pd.DataFrame(y_test_pred2.round(5))"
   ]
  },
  {
   "cell_type": "code",
   "execution_count": 126,
   "metadata": {},
   "outputs": [],
   "source": [
    "df_f.columns=['Prob']"
   ]
  },
  {
   "cell_type": "code",
   "execution_count": 127,
   "metadata": {},
   "outputs": [
    {
     "data": {
      "text/html": [
       "<div>\n",
       "<style scoped>\n",
       "    .dataframe tbody tr th:only-of-type {\n",
       "        vertical-align: middle;\n",
       "    }\n",
       "\n",
       "    .dataframe tbody tr th {\n",
       "        vertical-align: top;\n",
       "    }\n",
       "\n",
       "    .dataframe thead th {\n",
       "        text-align: right;\n",
       "    }\n",
       "</style>\n",
       "<table border=\"1\" class=\"dataframe\">\n",
       "  <thead>\n",
       "    <tr style=\"text-align: right;\">\n",
       "      <th></th>\n",
       "      <th>Prob</th>\n",
       "    </tr>\n",
       "  </thead>\n",
       "  <tbody>\n",
       "    <tr>\n",
       "      <th>0</th>\n",
       "      <td>0.00009</td>\n",
       "    </tr>\n",
       "    <tr>\n",
       "      <th>1</th>\n",
       "      <td>0.08564</td>\n",
       "    </tr>\n",
       "    <tr>\n",
       "      <th>2</th>\n",
       "      <td>0.00019</td>\n",
       "    </tr>\n",
       "    <tr>\n",
       "      <th>3</th>\n",
       "      <td>0.04112</td>\n",
       "    </tr>\n",
       "    <tr>\n",
       "      <th>4</th>\n",
       "      <td>0.00042</td>\n",
       "    </tr>\n",
       "    <tr>\n",
       "      <th>5</th>\n",
       "      <td>0.00013</td>\n",
       "    </tr>\n",
       "    <tr>\n",
       "      <th>6</th>\n",
       "      <td>0.01553</td>\n",
       "    </tr>\n",
       "    <tr>\n",
       "      <th>7</th>\n",
       "      <td>0.00161</td>\n",
       "    </tr>\n",
       "    <tr>\n",
       "      <th>8</th>\n",
       "      <td>0.00355</td>\n",
       "    </tr>\n",
       "    <tr>\n",
       "      <th>9</th>\n",
       "      <td>0.00158</td>\n",
       "    </tr>\n",
       "    <tr>\n",
       "      <th>10</th>\n",
       "      <td>0.00003</td>\n",
       "    </tr>\n",
       "    <tr>\n",
       "      <th>11</th>\n",
       "      <td>0.00095</td>\n",
       "    </tr>\n",
       "    <tr>\n",
       "      <th>12</th>\n",
       "      <td>0.00585</td>\n",
       "    </tr>\n",
       "    <tr>\n",
       "      <th>13</th>\n",
       "      <td>0.17015</td>\n",
       "    </tr>\n",
       "    <tr>\n",
       "      <th>14</th>\n",
       "      <td>0.00001</td>\n",
       "    </tr>\n",
       "    <tr>\n",
       "      <th>15</th>\n",
       "      <td>0.01376</td>\n",
       "    </tr>\n",
       "    <tr>\n",
       "      <th>16</th>\n",
       "      <td>0.00007</td>\n",
       "    </tr>\n",
       "    <tr>\n",
       "      <th>17</th>\n",
       "      <td>0.01912</td>\n",
       "    </tr>\n",
       "    <tr>\n",
       "      <th>18</th>\n",
       "      <td>0.00907</td>\n",
       "    </tr>\n",
       "    <tr>\n",
       "      <th>19</th>\n",
       "      <td>0.00182</td>\n",
       "    </tr>\n",
       "    <tr>\n",
       "      <th>20</th>\n",
       "      <td>0.00017</td>\n",
       "    </tr>\n",
       "    <tr>\n",
       "      <th>21</th>\n",
       "      <td>0.15547</td>\n",
       "    </tr>\n",
       "    <tr>\n",
       "      <th>22</th>\n",
       "      <td>0.00637</td>\n",
       "    </tr>\n",
       "    <tr>\n",
       "      <th>23</th>\n",
       "      <td>0.18631</td>\n",
       "    </tr>\n",
       "    <tr>\n",
       "      <th>24</th>\n",
       "      <td>0.00649</td>\n",
       "    </tr>\n",
       "    <tr>\n",
       "      <th>25</th>\n",
       "      <td>0.00014</td>\n",
       "    </tr>\n",
       "    <tr>\n",
       "      <th>26</th>\n",
       "      <td>0.00279</td>\n",
       "    </tr>\n",
       "    <tr>\n",
       "      <th>27</th>\n",
       "      <td>0.00000</td>\n",
       "    </tr>\n",
       "    <tr>\n",
       "      <th>28</th>\n",
       "      <td>0.00019</td>\n",
       "    </tr>\n",
       "    <tr>\n",
       "      <th>29</th>\n",
       "      <td>0.00135</td>\n",
       "    </tr>\n",
       "    <tr>\n",
       "      <th>...</th>\n",
       "      <td>...</td>\n",
       "    </tr>\n",
       "    <tr>\n",
       "      <th>256961</th>\n",
       "      <td>0.00000</td>\n",
       "    </tr>\n",
       "    <tr>\n",
       "      <th>256962</th>\n",
       "      <td>0.10099</td>\n",
       "    </tr>\n",
       "    <tr>\n",
       "      <th>256963</th>\n",
       "      <td>0.00012</td>\n",
       "    </tr>\n",
       "    <tr>\n",
       "      <th>256964</th>\n",
       "      <td>0.00000</td>\n",
       "    </tr>\n",
       "    <tr>\n",
       "      <th>256965</th>\n",
       "      <td>0.01737</td>\n",
       "    </tr>\n",
       "    <tr>\n",
       "      <th>256966</th>\n",
       "      <td>0.06137</td>\n",
       "    </tr>\n",
       "    <tr>\n",
       "      <th>256967</th>\n",
       "      <td>0.00000</td>\n",
       "    </tr>\n",
       "    <tr>\n",
       "      <th>256968</th>\n",
       "      <td>0.00038</td>\n",
       "    </tr>\n",
       "    <tr>\n",
       "      <th>256969</th>\n",
       "      <td>0.00284</td>\n",
       "    </tr>\n",
       "    <tr>\n",
       "      <th>256970</th>\n",
       "      <td>0.00166</td>\n",
       "    </tr>\n",
       "    <tr>\n",
       "      <th>256971</th>\n",
       "      <td>0.00000</td>\n",
       "    </tr>\n",
       "    <tr>\n",
       "      <th>256972</th>\n",
       "      <td>0.00001</td>\n",
       "    </tr>\n",
       "    <tr>\n",
       "      <th>256973</th>\n",
       "      <td>0.02166</td>\n",
       "    </tr>\n",
       "    <tr>\n",
       "      <th>256974</th>\n",
       "      <td>0.00577</td>\n",
       "    </tr>\n",
       "    <tr>\n",
       "      <th>256975</th>\n",
       "      <td>0.05077</td>\n",
       "    </tr>\n",
       "    <tr>\n",
       "      <th>256976</th>\n",
       "      <td>0.00542</td>\n",
       "    </tr>\n",
       "    <tr>\n",
       "      <th>256977</th>\n",
       "      <td>0.00014</td>\n",
       "    </tr>\n",
       "    <tr>\n",
       "      <th>256978</th>\n",
       "      <td>0.00724</td>\n",
       "    </tr>\n",
       "    <tr>\n",
       "      <th>256979</th>\n",
       "      <td>0.00000</td>\n",
       "    </tr>\n",
       "    <tr>\n",
       "      <th>256980</th>\n",
       "      <td>0.00000</td>\n",
       "    </tr>\n",
       "    <tr>\n",
       "      <th>256981</th>\n",
       "      <td>0.00000</td>\n",
       "    </tr>\n",
       "    <tr>\n",
       "      <th>256982</th>\n",
       "      <td>0.00042</td>\n",
       "    </tr>\n",
       "    <tr>\n",
       "      <th>256983</th>\n",
       "      <td>0.00204</td>\n",
       "    </tr>\n",
       "    <tr>\n",
       "      <th>256984</th>\n",
       "      <td>0.05364</td>\n",
       "    </tr>\n",
       "    <tr>\n",
       "      <th>256985</th>\n",
       "      <td>0.00041</td>\n",
       "    </tr>\n",
       "    <tr>\n",
       "      <th>256986</th>\n",
       "      <td>0.03362</td>\n",
       "    </tr>\n",
       "    <tr>\n",
       "      <th>256987</th>\n",
       "      <td>0.00623</td>\n",
       "    </tr>\n",
       "    <tr>\n",
       "      <th>256988</th>\n",
       "      <td>0.00065</td>\n",
       "    </tr>\n",
       "    <tr>\n",
       "      <th>256989</th>\n",
       "      <td>0.00003</td>\n",
       "    </tr>\n",
       "    <tr>\n",
       "      <th>256990</th>\n",
       "      <td>0.06345</td>\n",
       "    </tr>\n",
       "  </tbody>\n",
       "</table>\n",
       "<p>256991 rows × 1 columns</p>\n",
       "</div>"
      ],
      "text/plain": [
       "           Prob\n",
       "0       0.00009\n",
       "1       0.08564\n",
       "2       0.00019\n",
       "3       0.04112\n",
       "4       0.00042\n",
       "5       0.00013\n",
       "6       0.01553\n",
       "7       0.00161\n",
       "8       0.00355\n",
       "9       0.00158\n",
       "10      0.00003\n",
       "11      0.00095\n",
       "12      0.00585\n",
       "13      0.17015\n",
       "14      0.00001\n",
       "15      0.01376\n",
       "16      0.00007\n",
       "17      0.01912\n",
       "18      0.00907\n",
       "19      0.00182\n",
       "20      0.00017\n",
       "21      0.15547\n",
       "22      0.00637\n",
       "23      0.18631\n",
       "24      0.00649\n",
       "25      0.00014\n",
       "26      0.00279\n",
       "27      0.00000\n",
       "28      0.00019\n",
       "29      0.00135\n",
       "...         ...\n",
       "256961  0.00000\n",
       "256962  0.10099\n",
       "256963  0.00012\n",
       "256964  0.00000\n",
       "256965  0.01737\n",
       "256966  0.06137\n",
       "256967  0.00000\n",
       "256968  0.00038\n",
       "256969  0.00284\n",
       "256970  0.00166\n",
       "256971  0.00000\n",
       "256972  0.00001\n",
       "256973  0.02166\n",
       "256974  0.00577\n",
       "256975  0.05077\n",
       "256976  0.00542\n",
       "256977  0.00014\n",
       "256978  0.00724\n",
       "256979  0.00000\n",
       "256980  0.00000\n",
       "256981  0.00000\n",
       "256982  0.00042\n",
       "256983  0.00204\n",
       "256984  0.05364\n",
       "256985  0.00041\n",
       "256986  0.03362\n",
       "256987  0.00623\n",
       "256988  0.00065\n",
       "256989  0.00003\n",
       "256990  0.06345\n",
       "\n",
       "[256991 rows x 1 columns]"
      ]
     },
     "execution_count": 127,
     "metadata": {},
     "output_type": "execute_result"
    }
   ],
   "source": [
    "df_f"
   ]
  },
  {
   "cell_type": "code",
   "execution_count": 137,
   "metadata": {},
   "outputs": [],
   "source": [
    "final_test_pred_data=pd.concat([test_x2,test_y2,df_f],axis=1)"
   ]
  },
  {
   "cell_type": "code",
   "execution_count": 138,
   "metadata": {},
   "outputs": [
    {
     "data": {
      "text/plain": [
       "Index(['loan_amnt', 'int_rate', 'annual_inc', 'dti', 'inq_last_6mths',\n",
       "       'open_acc', 'total_acc', 'out_prncp', 'total_pymnt', 'total_rec_int',\n",
       "       'last_pymnt_amnt', 'revol_util', 'tot_cur_bal', 'total_rev_hi_lim',\n",
       "       'term_36', 'term_60', 'grade_A', 'grade_B', 'home_ownership_MORTGAGE',\n",
       "       'home_ownership_RENT', 'verification_status_Not Verified',\n",
       "       'verification_status_Source Verified', 'verification_status_Verified',\n",
       "       'purpose_credit_card', 'purpose_debt_consolidation', 'addr_state_CA',\n",
       "       'initial_list_status_f', 'initial_list_status_w',\n",
       "       'last_credit_pull_d_Dec-15', 'last_credit_pull_d_Jan-16',\n",
       "       'last_credit_pull_d_Nov-15', 'last_credit_pull_d_Oct-15',\n",
       "       'last_pymnt_d_Apr-15', 'last_pymnt_d_Aug-14', 'last_pymnt_d_Aug-15',\n",
       "       'last_pymnt_d_Dec-14', 'last_pymnt_d_Dec-15', 'last_pymnt_d_Feb-15',\n",
       "       'last_pymnt_d_Jan-15', 'last_pymnt_d_Jan-16', 'last_pymnt_d_Jul-14',\n",
       "       'last_pymnt_d_Jul-15', 'last_pymnt_d_Jun-15', 'last_pymnt_d_Mar-15',\n",
       "       'last_pymnt_d_May-15', 'last_pymnt_d_Nov-14', 'last_pymnt_d_Nov-15',\n",
       "       'last_pymnt_d_Oct-14', 'last_pymnt_d_Oct-15', 'last_pymnt_d_Sep-14',\n",
       "       'last_pymnt_d_Sep-15', 'emp_length_10 plus year', 'pred', 'default_ind',\n",
       "       'Prob'],\n",
       "      dtype='object')"
      ]
     },
     "execution_count": 138,
     "metadata": {},
     "output_type": "execute_result"
    }
   ],
   "source": [
    "final_test_pred_data.columns"
   ]
  },
  {
   "cell_type": "code",
   "execution_count": 143,
   "metadata": {},
   "outputs": [],
   "source": [
    "final_test_pred_data.to_csv('final_test_pred_data_f.csv',index=False)"
   ]
  },
  {
   "cell_type": "code",
   "execution_count": 140,
   "metadata": {},
   "outputs": [
    {
     "data": {
      "text/plain": [
       "True"
      ]
     },
     "execution_count": 140,
     "metadata": {},
     "output_type": "execute_result"
    }
   ],
   "source": [
    "'pred' in list(test_x2)"
   ]
  },
  {
   "cell_type": "code",
   "execution_count": 141,
   "metadata": {},
   "outputs": [
    {
     "data": {
      "text/plain": [
       "0         0\n",
       "1         0\n",
       "2         0\n",
       "3         0\n",
       "4         0\n",
       "5         0\n",
       "6         0\n",
       "7         0\n",
       "8         0\n",
       "9         0\n",
       "10        0\n",
       "11        0\n",
       "12        0\n",
       "13        0\n",
       "14        0\n",
       "15        0\n",
       "16        0\n",
       "17        0\n",
       "18        0\n",
       "19        0\n",
       "20        0\n",
       "21        0\n",
       "22        0\n",
       "23        0\n",
       "24        0\n",
       "25        0\n",
       "26        0\n",
       "27        0\n",
       "28        0\n",
       "29        0\n",
       "         ..\n",
       "256961    0\n",
       "256962    0\n",
       "256963    0\n",
       "256964    0\n",
       "256965    0\n",
       "256966    0\n",
       "256967    0\n",
       "256968    0\n",
       "256969    0\n",
       "256970    0\n",
       "256971    0\n",
       "256972    0\n",
       "256973    0\n",
       "256974    0\n",
       "256975    0\n",
       "256976    0\n",
       "256977    0\n",
       "256978    0\n",
       "256979    0\n",
       "256980    0\n",
       "256981    0\n",
       "256982    0\n",
       "256983    0\n",
       "256984    0\n",
       "256985    0\n",
       "256986    0\n",
       "256987    0\n",
       "256988    0\n",
       "256989    0\n",
       "256990    0\n",
       "Name: pred, Length: 256991, dtype: object"
      ]
     },
     "execution_count": 141,
     "metadata": {},
     "output_type": "execute_result"
    }
   ],
   "source": [
    "test_x2.pred"
   ]
  },
  {
   "cell_type": "code",
   "execution_count": null,
   "metadata": {},
   "outputs": [],
   "source": []
  },
  {
   "cell_type": "code",
   "execution_count": null,
   "metadata": {},
   "outputs": [],
   "source": []
  },
  {
   "cell_type": "code",
   "execution_count": null,
   "metadata": {},
   "outputs": [],
   "source": []
  },
  {
   "cell_type": "code",
   "execution_count": 97,
   "metadata": {},
   "outputs": [],
   "source": []
  },
  {
   "cell_type": "code",
   "execution_count": null,
   "metadata": {},
   "outputs": [],
   "source": []
  },
  {
   "cell_type": "code",
   "execution_count": null,
   "metadata": {},
   "outputs": [],
   "source": []
  },
  {
   "cell_type": "code",
   "execution_count": null,
   "metadata": {},
   "outputs": [],
   "source": []
  },
  {
   "cell_type": "code",
   "execution_count": null,
   "metadata": {},
   "outputs": [],
   "source": []
  },
  {
   "cell_type": "markdown",
   "metadata": {},
   "source": []
  },
  {
   "cell_type": "code",
   "execution_count": 204,
   "metadata": {},
   "outputs": [],
   "source": []
  },
  {
   "cell_type": "code",
   "execution_count": null,
   "metadata": {},
   "outputs": [],
   "source": []
  },
  {
   "cell_type": "code",
   "execution_count": null,
   "metadata": {},
   "outputs": [],
   "source": []
  },
  {
   "cell_type": "code",
   "execution_count": null,
   "metadata": {},
   "outputs": [],
   "source": []
  },
  {
   "cell_type": "code",
   "execution_count": null,
   "metadata": {},
   "outputs": [],
   "source": []
  },
  {
   "cell_type": "code",
   "execution_count": 92,
   "metadata": {},
   "outputs": [],
   "source": []
  },
  {
   "cell_type": "code",
   "execution_count": null,
   "metadata": {},
   "outputs": [],
   "source": []
  },
  {
   "cell_type": "code",
   "execution_count": null,
   "metadata": {},
   "outputs": [],
   "source": []
  },
  {
   "cell_type": "code",
   "execution_count": null,
   "metadata": {},
   "outputs": [],
   "source": [
    "\n",
    "    "
   ]
  },
  {
   "cell_type": "code",
   "execution_count": null,
   "metadata": {},
   "outputs": [],
   "source": []
  },
  {
   "cell_type": "code",
   "execution_count": null,
   "metadata": {},
   "outputs": [],
   "source": []
  },
  {
   "cell_type": "code",
   "execution_count": null,
   "metadata": {},
   "outputs": [],
   "source": []
  },
  {
   "cell_type": "code",
   "execution_count": null,
   "metadata": {},
   "outputs": [],
   "source": []
  },
  {
   "cell_type": "code",
   "execution_count": null,
   "metadata": {},
   "outputs": [],
   "source": []
  },
  {
   "cell_type": "code",
   "execution_count": null,
   "metadata": {},
   "outputs": [],
   "source": []
  },
  {
   "cell_type": "raw",
   "metadata": {},
   "source": []
  },
  {
   "cell_type": "code",
   "execution_count": null,
   "metadata": {},
   "outputs": [],
   "source": []
  },
  {
   "cell_type": "code",
   "execution_count": null,
   "metadata": {},
   "outputs": [],
   "source": []
  },
  {
   "cell_type": "code",
   "execution_count": null,
   "metadata": {},
   "outputs": [],
   "source": []
  },
  {
   "cell_type": "code",
   "execution_count": null,
   "metadata": {},
   "outputs": [],
   "source": []
  },
  {
   "cell_type": "code",
   "execution_count": null,
   "metadata": {},
   "outputs": [],
   "source": []
  },
  {
   "cell_type": "code",
   "execution_count": null,
   "metadata": {},
   "outputs": [],
   "source": []
  },
  {
   "cell_type": "code",
   "execution_count": null,
   "metadata": {},
   "outputs": [],
   "source": []
  },
  {
   "cell_type": "code",
   "execution_count": null,
   "metadata": {},
   "outputs": [],
   "source": []
  },
  {
   "cell_type": "code",
   "execution_count": null,
   "metadata": {},
   "outputs": [],
   "source": []
  },
  {
   "cell_type": "code",
   "execution_count": null,
   "metadata": {},
   "outputs": [],
   "source": []
  }
 ],
 "metadata": {
  "kernelspec": {
   "display_name": "Python 3",
   "language": "python",
   "name": "python3"
  },
  "language_info": {
   "codemirror_mode": {
    "name": "ipython",
    "version": 3
   },
   "file_extension": ".py",
   "mimetype": "text/x-python",
   "name": "python",
   "nbconvert_exporter": "python",
   "pygments_lexer": "ipython3",
   "version": "3.7.1"
  }
 },
 "nbformat": 4,
 "nbformat_minor": 2
}
