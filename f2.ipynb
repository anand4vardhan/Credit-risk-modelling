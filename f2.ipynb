{
 "cells": [
  {
   "cell_type": "code",
   "execution_count": 1,
   "metadata": {},
   "outputs": [],
   "source": [
    "import numpy as np\n",
    "import pandas as pd\n",
    "import matplotlib.pyplot as plt\n",
    "import os"
   ]
  },
  {
   "cell_type": "code",
   "execution_count": 2,
   "metadata": {},
   "outputs": [],
   "source": [
    "os.chdir('A:\\Imarticus\\python project')"
   ]
  },
  {
   "cell_type": "code",
   "execution_count": 24,
   "metadata": {},
   "outputs": [],
   "source": [
    "train = pd.read_csv('train_new.csv')\n",
    "test=pd.read_csv('test_new.csv')"
   ]
  },
  {
   "cell_type": "code",
   "execution_count": 25,
   "metadata": {},
   "outputs": [
    {
     "data": {
      "text/plain": [
       "36"
      ]
     },
     "execution_count": 25,
     "metadata": {},
     "output_type": "execute_result"
    }
   ],
   "source": [
    "len(test.columns)"
   ]
  },
  {
   "cell_type": "code",
   "execution_count": 26,
   "metadata": {},
   "outputs": [
    {
     "data": {
      "text/plain": [
       "0    256680\n",
       "1       311\n",
       "Name: default_ind, dtype: int64"
      ]
     },
     "execution_count": 26,
     "metadata": {},
     "output_type": "execute_result"
    }
   ],
   "source": [
    "test.default_ind.value_counts()"
   ]
  },
  {
   "cell_type": "code",
   "execution_count": 27,
   "metadata": {},
   "outputs": [],
   "source": [
    "test['default_ind']=test.default_ind.astype(int)"
   ]
  },
  {
   "cell_type": "code",
   "execution_count": 28,
   "metadata": {},
   "outputs": [],
   "source": [
    "train['Source']='train'\n",
    "test['Source']='test'"
   ]
  },
  {
   "cell_type": "code",
   "execution_count": 29,
   "metadata": {},
   "outputs": [],
   "source": [
    "fulldata=pd.concat([train,test],axis=0,sort=False)"
   ]
  },
  {
   "cell_type": "code",
   "execution_count": 30,
   "metadata": {},
   "outputs": [
    {
     "data": {
      "text/plain": [
       "Index(['loan_amnt', 'term', 'int_rate', 'grade', 'sub_grade', 'emp_length',\n",
       "       'home_ownership', 'annual_inc', 'verification_status', 'issue_d',\n",
       "       'pymnt_plan', 'purpose', 'addr_state', 'dti', 'delinq_2yrs',\n",
       "       'inq_last_6mths', 'open_acc', 'pub_rec', 'revol_util', 'total_acc',\n",
       "       'initial_list_status', 'out_prncp', 'total_pymnt', 'total_rec_int',\n",
       "       'total_rec_late_fee', 'recoveries', 'last_pymnt_d', 'last_pymnt_amnt',\n",
       "       'last_credit_pull_d', 'collections_12_mths_ex_med', 'application_type',\n",
       "       'acc_now_delinq', 'tot_coll_amt', 'tot_cur_bal', 'total_rev_hi_lim',\n",
       "       'default_ind', 'Source'],\n",
       "      dtype='object')"
      ]
     },
     "execution_count": 30,
     "metadata": {},
     "output_type": "execute_result"
    }
   ],
   "source": [
    "fulldata.columns"
   ]
  },
  {
   "cell_type": "code",
   "execution_count": null,
   "metadata": {},
   "outputs": [],
   "source": []
  },
  {
   "cell_type": "code",
   "execution_count": null,
   "metadata": {},
   "outputs": [],
   "source": []
  },
  {
   "cell_type": "code",
   "execution_count": 31,
   "metadata": {},
   "outputs": [
    {
     "data": {
      "text/plain": [
       "loan_amnt                       int64\n",
       "term                           object\n",
       "int_rate                      float64\n",
       "grade                          object\n",
       "sub_grade                      object\n",
       "emp_length                     object\n",
       "home_ownership                 object\n",
       "annual_inc                    float64\n",
       "verification_status            object\n",
       "issue_d                        object\n",
       "pymnt_plan                     object\n",
       "purpose                        object\n",
       "addr_state                     object\n",
       "dti                           float64\n",
       "delinq_2yrs                     int64\n",
       "inq_last_6mths                  int64\n",
       "open_acc                        int64\n",
       "pub_rec                         int64\n",
       "revol_util                    float64\n",
       "total_acc                     float64\n",
       "initial_list_status            object\n",
       "out_prncp                     float64\n",
       "total_pymnt                   float64\n",
       "total_rec_int                 float64\n",
       "total_rec_late_fee              int64\n",
       "recoveries                      int64\n",
       "last_pymnt_d                   object\n",
       "last_pymnt_amnt               float64\n",
       "last_credit_pull_d             object\n",
       "collections_12_mths_ex_med    float64\n",
       "application_type               object\n",
       "acc_now_delinq                  int64\n",
       "tot_coll_amt                  float64\n",
       "tot_cur_bal                   float64\n",
       "total_rev_hi_lim              float64\n",
       "default_ind                     int64\n",
       "Source                         object\n",
       "dtype: object"
      ]
     },
     "execution_count": 31,
     "metadata": {},
     "output_type": "execute_result"
    }
   ],
   "source": [
    "fulldata.dtypes"
   ]
  },
  {
   "cell_type": "code",
   "execution_count": null,
   "metadata": {},
   "outputs": [],
   "source": []
  },
  {
   "cell_type": "code",
   "execution_count": null,
   "metadata": {},
   "outputs": [],
   "source": []
  },
  {
   "cell_type": "code",
   "execution_count": null,
   "metadata": {},
   "outputs": [],
   "source": []
  },
  {
   "cell_type": "code",
   "execution_count": null,
   "metadata": {},
   "outputs": [],
   "source": []
  },
  {
   "cell_type": "code",
   "execution_count": 32,
   "metadata": {},
   "outputs": [],
   "source": [
    "fulldata['default_ind']=fulldata['default_ind'].astype(str)\n",
    "fulldata['acc_now_delinq']=fulldata['acc_now_delinq'].astype(str)"
   ]
  },
  {
   "cell_type": "code",
   "execution_count": 33,
   "metadata": {},
   "outputs": [],
   "source": [
    "fulldata.inq_last_6mths=fulldata.inq_last_6mths.astype(str)"
   ]
  },
  {
   "cell_type": "code",
   "execution_count": 34,
   "metadata": {},
   "outputs": [
    {
     "data": {
      "text/plain": [
       "loan_amnt                       int64\n",
       "term                           object\n",
       "int_rate                      float64\n",
       "grade                          object\n",
       "sub_grade                      object\n",
       "emp_length                     object\n",
       "home_ownership                 object\n",
       "annual_inc                    float64\n",
       "verification_status            object\n",
       "issue_d                        object\n",
       "pymnt_plan                     object\n",
       "purpose                        object\n",
       "addr_state                     object\n",
       "dti                           float64\n",
       "delinq_2yrs                     int64\n",
       "inq_last_6mths                 object\n",
       "open_acc                        int64\n",
       "pub_rec                         int64\n",
       "revol_util                    float64\n",
       "total_acc                     float64\n",
       "initial_list_status            object\n",
       "out_prncp                     float64\n",
       "total_pymnt                   float64\n",
       "total_rec_int                 float64\n",
       "total_rec_late_fee              int64\n",
       "recoveries                      int64\n",
       "last_pymnt_d                   object\n",
       "last_pymnt_amnt               float64\n",
       "last_credit_pull_d             object\n",
       "collections_12_mths_ex_med    float64\n",
       "application_type               object\n",
       "acc_now_delinq                 object\n",
       "tot_coll_amt                  float64\n",
       "tot_cur_bal                   float64\n",
       "total_rev_hi_lim              float64\n",
       "default_ind                    object\n",
       "Source                         object\n",
       "dtype: object"
      ]
     },
     "execution_count": 34,
     "metadata": {},
     "output_type": "execute_result"
    }
   ],
   "source": [
    "fulldata.dtypes"
   ]
  },
  {
   "cell_type": "code",
   "execution_count": 35,
   "metadata": {},
   "outputs": [
    {
     "data": {
      "text/plain": [
       "term                     2\n",
       "grade                    7\n",
       "sub_grade               35\n",
       "emp_length              11\n",
       "home_ownership           6\n",
       "verification_status      3\n",
       "issue_d                103\n",
       "pymnt_plan               2\n",
       "purpose                 14\n",
       "addr_state              51\n",
       "inq_last_6mths           9\n",
       "initial_list_status      2\n",
       "last_pymnt_d            97\n",
       "last_credit_pull_d     102\n",
       "application_type         2\n",
       "acc_now_delinq           8\n",
       "default_ind              2\n",
       "Source                   2\n",
       "dtype: int64"
      ]
     },
     "execution_count": 35,
     "metadata": {},
     "output_type": "execute_result"
    }
   ],
   "source": [
    "fulldata.select_dtypes('object').apply(pd.Series.nunique, axis = 0)"
   ]
  },
  {
   "cell_type": "markdown",
   "metadata": {},
   "source": [
    "# imputation"
   ]
  },
  {
   "cell_type": "code",
   "execution_count": 36,
   "metadata": {},
   "outputs": [],
   "source": [
    "def impute(df,train):\n",
    "    for i in range(len(df.columns)):\n",
    "        if(df.iloc[:,i].dtype==object):\n",
    "            if(df.iloc[:,i].isnull().sum()>0):\n",
    "                df.iloc[:,i].fillna(train.iloc[:,i].mode()[0], inplace=True)\n",
    "        else:\n",
    "            df.iloc[:,i].fillna(train.iloc[:,i].median(), inplace=True)\n",
    "    return df"
   ]
  },
  {
   "cell_type": "code",
   "execution_count": 37,
   "metadata": {},
   "outputs": [
    {
     "data": {
      "text/plain": [
       "0    809502\n",
       "1     46467\n",
       "Name: default_ind, dtype: int64"
      ]
     },
     "execution_count": 37,
     "metadata": {},
     "output_type": "execute_result"
    }
   ],
   "source": [
    "fulldata.default_ind.value_counts()"
   ]
  },
  {
   "cell_type": "code",
   "execution_count": 38,
   "metadata": {},
   "outputs": [
    {
     "data": {
      "text/plain": [
       "<matplotlib.axes._subplots.AxesSubplot at 0x131891b8eb8>"
      ]
     },
     "execution_count": 38,
     "metadata": {},
     "output_type": "execute_result"
    },
    {
     "data": {
      "image/png": "[encoded data removed]",
      "text/plain": [
       "<Figure size 432x288 with 1 Axes>"
      ]
     },
     "metadata": {
      "needs_background": "light"
     },
     "output_type": "display_data"
    }
   ],
   "source": [
    "fulldata.default_ind.value_counts().plot.bar()"
   ]
  },
  {
   "cell_type": "code",
   "execution_count": 39,
   "metadata": {},
   "outputs": [],
   "source": [
    "from datetime import datetime"
   ]
  },
  {
   "cell_type": "code",
   "execution_count": 40,
   "metadata": {},
   "outputs": [],
   "source": [
    "fulldata=fulldata.drop('issue_d',axis=1)"
   ]
  },
  {
   "cell_type": "code",
   "execution_count": 41,
   "metadata": {},
   "outputs": [
    {
     "data": {
      "text/plain": [
       "loan_amnt                       int64\n",
       "term                           object\n",
       "int_rate                      float64\n",
       "grade                          object\n",
       "sub_grade                      object\n",
       "emp_length                     object\n",
       "home_ownership                 object\n",
       "annual_inc                    float64\n",
       "verification_status            object\n",
       "pymnt_plan                     object\n",
       "purpose                        object\n",
       "addr_state                     object\n",
       "dti                           float64\n",
       "delinq_2yrs                     int64\n",
       "inq_last_6mths                 object\n",
       "open_acc                        int64\n",
       "pub_rec                         int64\n",
       "revol_util                    float64\n",
       "total_acc                     float64\n",
       "initial_list_status            object\n",
       "out_prncp                     float64\n",
       "total_pymnt                   float64\n",
       "total_rec_int                 float64\n",
       "total_rec_late_fee              int64\n",
       "recoveries                      int64\n",
       "last_pymnt_d                   object\n",
       "last_pymnt_amnt               float64\n",
       "last_credit_pull_d             object\n",
       "collections_12_mths_ex_med    float64\n",
       "application_type               object\n",
       "acc_now_delinq                 object\n",
       "tot_coll_amt                  float64\n",
       "tot_cur_bal                   float64\n",
       "total_rev_hi_lim              float64\n",
       "default_ind                    object\n",
       "Source                         object\n",
       "dtype: object"
      ]
     },
     "execution_count": 41,
     "metadata": {},
     "output_type": "execute_result"
    }
   ],
   "source": [
    "fulldata.dtypes"
   ]
  },
  {
   "cell_type": "code",
   "execution_count": 42,
   "metadata": {},
   "outputs": [
    {
     "data": {
      "text/plain": [
       "term                     2\n",
       "grade                    7\n",
       "sub_grade               35\n",
       "emp_length              11\n",
       "home_ownership           6\n",
       "verification_status      3\n",
       "pymnt_plan               2\n",
       "purpose                 14\n",
       "addr_state              51\n",
       "inq_last_6mths           9\n",
       "initial_list_status      2\n",
       "last_pymnt_d            97\n",
       "last_credit_pull_d     102\n",
       "application_type         2\n",
       "acc_now_delinq           8\n",
       "default_ind              2\n",
       "Source                   2\n",
       "dtype: int64"
      ]
     },
     "execution_count": 42,
     "metadata": {},
     "output_type": "execute_result"
    }
   ],
   "source": [
    "fulldata.select_dtypes('object').apply(pd.Series.nunique, axis = 0)"
   ]
  },
  {
   "cell_type": "code",
   "execution_count": 43,
   "metadata": {},
   "outputs": [
    {
     "data": {
      "text/plain": [
       "array(['MA', 'WI', 'ME', 'FL', 'NY', 'GA', 'CO', 'VA', 'IN', 'NC', 'MD',\n",
       "       'CT', 'CA', 'WA', 'NJ', 'NE', 'AZ', 'NM', 'OH', 'LA', 'AL', 'TN',\n",
       "       'KS', 'SC', 'UT', 'MO', 'DE', 'TX', 'SD', 'NH', 'IL', 'KY', 'WY',\n",
       "       'AR', 'VT', 'NV', 'MN', 'PA', 'RI', 'OR', 'MI', 'IA', 'DC', 'ID',\n",
       "       'HI', 'MS', 'AK', 'OK', 'MT', 'WV', 'ND'], dtype=object)"
      ]
     },
     "execution_count": 43,
     "metadata": {},
     "output_type": "execute_result"
    }
   ],
   "source": [
    "fulldata.addr_state.unique()"
   ]
  },
  {
   "cell_type": "code",
   "execution_count": 44,
   "metadata": {},
   "outputs": [
    {
     "data": {
      "text/plain": [
       "dtype('O')"
      ]
     },
     "execution_count": 44,
     "metadata": {},
     "output_type": "execute_result"
    }
   ],
   "source": [
    "fulldata.addr_state.dtype"
   ]
  },
  {
   "cell_type": "code",
   "execution_count": 45,
   "metadata": {},
   "outputs": [
    {
     "data": {
      "text/plain": [
       "loan_amnt                         0\n",
       "term                              0\n",
       "int_rate                          0\n",
       "grade                             0\n",
       "sub_grade                         0\n",
       "emp_length                    43061\n",
       "home_ownership                    0\n",
       "annual_inc                        0\n",
       "verification_status               0\n",
       "pymnt_plan                        0\n",
       "purpose                           0\n",
       "addr_state                        0\n",
       "dti                               0\n",
       "delinq_2yrs                       0\n",
       "inq_last_6mths                    0\n",
       "open_acc                          0\n",
       "pub_rec                           0\n",
       "revol_util                      446\n",
       "total_acc                         0\n",
       "initial_list_status               0\n",
       "out_prncp                         0\n",
       "total_pymnt                       0\n",
       "total_rec_int                     0\n",
       "total_rec_late_fee                0\n",
       "recoveries                        0\n",
       "last_pymnt_d                   8862\n",
       "last_pymnt_amnt                   0\n",
       "last_credit_pull_d               50\n",
       "collections_12_mths_ex_med       56\n",
       "application_type                  0\n",
       "acc_now_delinq                    0\n",
       "tot_coll_amt                  67313\n",
       "tot_cur_bal                   67313\n",
       "total_rev_hi_lim              67313\n",
       "default_ind                       0\n",
       "Source                            0\n",
       "dtype: int64"
      ]
     },
     "execution_count": 45,
     "metadata": {},
     "output_type": "execute_result"
    }
   ],
   "source": [
    "fulldata.isnull().sum()"
   ]
  },
  {
   "cell_type": "code",
   "execution_count": null,
   "metadata": {},
   "outputs": [],
   "source": []
  },
  {
   "cell_type": "code",
   "execution_count": 46,
   "metadata": {},
   "outputs": [
    {
     "data": {
      "text/plain": [
       "loan_amnt                         0\n",
       "term                              0\n",
       "int_rate                          0\n",
       "grade                             0\n",
       "sub_grade                         0\n",
       "emp_length                    43061\n",
       "home_ownership                    0\n",
       "annual_inc                        0\n",
       "verification_status               0\n",
       "pymnt_plan                        0\n",
       "purpose                           0\n",
       "addr_state                        0\n",
       "dti                               0\n",
       "delinq_2yrs                       0\n",
       "inq_last_6mths                    0\n",
       "open_acc                          0\n",
       "pub_rec                           0\n",
       "revol_util                      446\n",
       "total_acc                         0\n",
       "initial_list_status               0\n",
       "out_prncp                         0\n",
       "total_pymnt                       0\n",
       "total_rec_int                     0\n",
       "total_rec_late_fee                0\n",
       "recoveries                        0\n",
       "last_pymnt_d                   8862\n",
       "last_pymnt_amnt                   0\n",
       "last_credit_pull_d               50\n",
       "collections_12_mths_ex_med       56\n",
       "application_type                  0\n",
       "acc_now_delinq                    0\n",
       "tot_coll_amt                  67313\n",
       "tot_cur_bal                   67313\n",
       "total_rev_hi_lim              67313\n",
       "default_ind                       0\n",
       "Source                            0\n",
       "dtype: int64"
      ]
     },
     "execution_count": 46,
     "metadata": {},
     "output_type": "execute_result"
    }
   ],
   "source": [
    "fulldata.isnull().sum()"
   ]
  },
  {
   "cell_type": "code",
   "execution_count": 47,
   "metadata": {},
   "outputs": [],
   "source": [
    "fulldata1=fulldata[['last_credit_pull_d','last_pymnt_d','revol_util','tot_coll_amt','tot_cur_bal','total_rev_hi_lim','collections_12_mths_ex_med','emp_length']]"
   ]
  },
  {
   "cell_type": "code",
   "execution_count": 48,
   "metadata": {},
   "outputs": [
    {
     "data": {
      "text/plain": [
       "last_credit_pull_d             object\n",
       "last_pymnt_d                   object\n",
       "revol_util                    float64\n",
       "tot_coll_amt                  float64\n",
       "tot_cur_bal                   float64\n",
       "total_rev_hi_lim              float64\n",
       "collections_12_mths_ex_med    float64\n",
       "emp_length                     object\n",
       "dtype: object"
      ]
     },
     "execution_count": 48,
     "metadata": {},
     "output_type": "execute_result"
    }
   ],
   "source": [
    "fulldata1.dtypes"
   ]
  },
  {
   "cell_type": "code",
   "execution_count": 49,
   "metadata": {},
   "outputs": [],
   "source": [
    "train1=train[['last_credit_pull_d','last_pymnt_d','revol_util','tot_coll_amt','tot_cur_bal','total_rev_hi_lim','collections_12_mths_ex_med','emp_length']]"
   ]
  },
  {
   "cell_type": "code",
   "execution_count": 50,
   "metadata": {},
   "outputs": [
    {
     "data": {
      "text/plain": [
       "last_credit_pull_d             object\n",
       "last_pymnt_d                   object\n",
       "revol_util                    float64\n",
       "tot_coll_amt                  float64\n",
       "tot_cur_bal                   float64\n",
       "total_rev_hi_lim              float64\n",
       "collections_12_mths_ex_med    float64\n",
       "emp_length                     object\n",
       "dtype: object"
      ]
     },
     "execution_count": 50,
     "metadata": {},
     "output_type": "execute_result"
    }
   ],
   "source": [
    "train1.dtypes"
   ]
  },
  {
   "cell_type": "code",
   "execution_count": 51,
   "metadata": {},
   "outputs": [],
   "source": [
    "fulldata1=impute(fulldata1,train1)"
   ]
  },
  {
   "cell_type": "code",
   "execution_count": 52,
   "metadata": {},
   "outputs": [],
   "source": [
    "list1=['last_credit_pull_d','last_pymnt_d','revol_util','tot_coll_amt','tot_cur_bal','total_rev_hi_lim','collections_12_mths_ex_med','emp_length']"
   ]
  },
  {
   "cell_type": "code",
   "execution_count": 53,
   "metadata": {},
   "outputs": [],
   "source": [
    "fulldata3=fulldata.drop(list1,axis=1)"
   ]
  },
  {
   "cell_type": "code",
   "execution_count": 54,
   "metadata": {},
   "outputs": [],
   "source": [
    "fulldata3=pd.concat([fulldata3,fulldata1],axis=1)"
   ]
  },
  {
   "cell_type": "code",
   "execution_count": 55,
   "metadata": {},
   "outputs": [
    {
     "data": {
      "text/plain": [
       "loan_amnt                     0\n",
       "term                          0\n",
       "int_rate                      0\n",
       "grade                         0\n",
       "sub_grade                     0\n",
       "home_ownership                0\n",
       "annual_inc                    0\n",
       "verification_status           0\n",
       "pymnt_plan                    0\n",
       "purpose                       0\n",
       "addr_state                    0\n",
       "dti                           0\n",
       "delinq_2yrs                   0\n",
       "inq_last_6mths                0\n",
       "open_acc                      0\n",
       "pub_rec                       0\n",
       "total_acc                     0\n",
       "initial_list_status           0\n",
       "out_prncp                     0\n",
       "total_pymnt                   0\n",
       "total_rec_int                 0\n",
       "total_rec_late_fee            0\n",
       "recoveries                    0\n",
       "last_pymnt_amnt               0\n",
       "application_type              0\n",
       "acc_now_delinq                0\n",
       "default_ind                   0\n",
       "Source                        0\n",
       "last_credit_pull_d            0\n",
       "last_pymnt_d                  0\n",
       "revol_util                    0\n",
       "tot_coll_amt                  0\n",
       "tot_cur_bal                   0\n",
       "total_rev_hi_lim              0\n",
       "collections_12_mths_ex_med    0\n",
       "emp_length                    0\n",
       "dtype: int64"
      ]
     },
     "execution_count": 55,
     "metadata": {},
     "output_type": "execute_result"
    }
   ],
   "source": [
    "fulldata3.isnull().sum()"
   ]
  },
  {
   "cell_type": "code",
   "execution_count": 56,
   "metadata": {},
   "outputs": [
    {
     "data": {
      "text/html": [
       "<div>\n",
       "<style scoped>\n",
       "    .dataframe tbody tr th:only-of-type {\n",
       "        vertical-align: middle;\n",
       "    }\n",
       "\n",
       "    .dataframe tbody tr th {\n",
       "        vertical-align: top;\n",
       "    }\n",
       "\n",
       "    .dataframe thead th {\n",
       "        text-align: right;\n",
       "    }\n",
       "</style>\n",
       "<table border=\"1\" class=\"dataframe\">\n",
       "  <thead>\n",
       "    <tr style=\"text-align: right;\">\n",
       "      <th></th>\n",
       "      <th>loan_amnt</th>\n",
       "      <th>term</th>\n",
       "      <th>int_rate</th>\n",
       "      <th>grade</th>\n",
       "      <th>sub_grade</th>\n",
       "      <th>home_ownership</th>\n",
       "      <th>annual_inc</th>\n",
       "      <th>verification_status</th>\n",
       "      <th>pymnt_plan</th>\n",
       "      <th>purpose</th>\n",
       "      <th>...</th>\n",
       "      <th>default_ind</th>\n",
       "      <th>Source</th>\n",
       "      <th>last_credit_pull_d</th>\n",
       "      <th>last_pymnt_d</th>\n",
       "      <th>revol_util</th>\n",
       "      <th>tot_coll_amt</th>\n",
       "      <th>tot_cur_bal</th>\n",
       "      <th>total_rev_hi_lim</th>\n",
       "      <th>collections_12_mths_ex_med</th>\n",
       "      <th>emp_length</th>\n",
       "    </tr>\n",
       "  </thead>\n",
       "  <tbody>\n",
       "    <tr>\n",
       "      <th>0</th>\n",
       "      <td>7500</td>\n",
       "      <td>36 months</td>\n",
       "      <td>13.75</td>\n",
       "      <td>E</td>\n",
       "      <td>E2</td>\n",
       "      <td>OWN</td>\n",
       "      <td>22000.0</td>\n",
       "      <td>Not Verified</td>\n",
       "      <td>n</td>\n",
       "      <td>debt_consolidation</td>\n",
       "      <td>...</td>\n",
       "      <td>0</td>\n",
       "      <td>train</td>\n",
       "      <td>Jun-10</td>\n",
       "      <td>Jun-10</td>\n",
       "      <td>51.5</td>\n",
       "      <td>0.0</td>\n",
       "      <td>80986.0</td>\n",
       "      <td>23200.0</td>\n",
       "      <td>0.0</td>\n",
       "      <td>&lt; 1 year</td>\n",
       "    </tr>\n",
       "    <tr>\n",
       "      <th>1</th>\n",
       "      <td>3500</td>\n",
       "      <td>36 months</td>\n",
       "      <td>10.28</td>\n",
       "      <td>C</td>\n",
       "      <td>C1</td>\n",
       "      <td>RENT</td>\n",
       "      <td>20000.0</td>\n",
       "      <td>Not Verified</td>\n",
       "      <td>n</td>\n",
       "      <td>moving</td>\n",
       "      <td>...</td>\n",
       "      <td>0</td>\n",
       "      <td>train</td>\n",
       "      <td>Aug-10</td>\n",
       "      <td>Sep-10</td>\n",
       "      <td>32.4</td>\n",
       "      <td>0.0</td>\n",
       "      <td>80986.0</td>\n",
       "      <td>23200.0</td>\n",
       "      <td>0.0</td>\n",
       "      <td>&lt; 1 year</td>\n",
       "    </tr>\n",
       "    <tr>\n",
       "      <th>2</th>\n",
       "      <td>5750</td>\n",
       "      <td>36 months</td>\n",
       "      <td>7.43</td>\n",
       "      <td>A</td>\n",
       "      <td>A2</td>\n",
       "      <td>MORTGAGE</td>\n",
       "      <td>125000.0</td>\n",
       "      <td>Not Verified</td>\n",
       "      <td>n</td>\n",
       "      <td>debt_consolidation</td>\n",
       "      <td>...</td>\n",
       "      <td>0</td>\n",
       "      <td>train</td>\n",
       "      <td>Apr-10</td>\n",
       "      <td>May-10</td>\n",
       "      <td>10.2</td>\n",
       "      <td>0.0</td>\n",
       "      <td>80986.0</td>\n",
       "      <td>23200.0</td>\n",
       "      <td>0.0</td>\n",
       "      <td>10+ years</td>\n",
       "    </tr>\n",
       "    <tr>\n",
       "      <th>3</th>\n",
       "      <td>5000</td>\n",
       "      <td>36 months</td>\n",
       "      <td>7.43</td>\n",
       "      <td>A</td>\n",
       "      <td>A2</td>\n",
       "      <td>RENT</td>\n",
       "      <td>40000.0</td>\n",
       "      <td>Not Verified</td>\n",
       "      <td>n</td>\n",
       "      <td>car</td>\n",
       "      <td>...</td>\n",
       "      <td>0</td>\n",
       "      <td>train</td>\n",
       "      <td>Nov-13</td>\n",
       "      <td>Aug-10</td>\n",
       "      <td>14.0</td>\n",
       "      <td>0.0</td>\n",
       "      <td>80986.0</td>\n",
       "      <td>23200.0</td>\n",
       "      <td>0.0</td>\n",
       "      <td>6 years</td>\n",
       "    </tr>\n",
       "    <tr>\n",
       "      <th>4</th>\n",
       "      <td>1200</td>\n",
       "      <td>36 months</td>\n",
       "      <td>11.54</td>\n",
       "      <td>C</td>\n",
       "      <td>C5</td>\n",
       "      <td>RENT</td>\n",
       "      <td>20000.0</td>\n",
       "      <td>Not Verified</td>\n",
       "      <td>n</td>\n",
       "      <td>credit_card</td>\n",
       "      <td>...</td>\n",
       "      <td>0</td>\n",
       "      <td>train</td>\n",
       "      <td>Jul-10</td>\n",
       "      <td>Jul-10</td>\n",
       "      <td>75.8</td>\n",
       "      <td>0.0</td>\n",
       "      <td>80986.0</td>\n",
       "      <td>23200.0</td>\n",
       "      <td>0.0</td>\n",
       "      <td>&lt; 1 year</td>\n",
       "    </tr>\n",
       "  </tbody>\n",
       "</table>\n",
       "<p>5 rows × 36 columns</p>\n",
       "</div>"
      ],
      "text/plain": [
       "   loan_amnt        term  int_rate grade sub_grade home_ownership  annual_inc  \\\n",
       "0       7500   36 months     13.75     E        E2            OWN     22000.0   \n",
       "1       3500   36 months     10.28     C        C1           RENT     20000.0   \n",
       "2       5750   36 months      7.43     A        A2       MORTGAGE    125000.0   \n",
       "3       5000   36 months      7.43     A        A2           RENT     40000.0   \n",
       "4       1200   36 months     11.54     C        C5           RENT     20000.0   \n",
       "\n",
       "  verification_status pymnt_plan             purpose     ...     default_ind  \\\n",
       "0        Not Verified          n  debt_consolidation     ...               0   \n",
       "1        Not Verified          n              moving     ...               0   \n",
       "2        Not Verified          n  debt_consolidation     ...               0   \n",
       "3        Not Verified          n                 car     ...               0   \n",
       "4        Not Verified          n         credit_card     ...               0   \n",
       "\n",
       "   Source  last_credit_pull_d last_pymnt_d  revol_util  tot_coll_amt  \\\n",
       "0   train              Jun-10       Jun-10        51.5           0.0   \n",
       "1   train              Aug-10       Sep-10        32.4           0.0   \n",
       "2   train              Apr-10       May-10        10.2           0.0   \n",
       "3   train              Nov-13       Aug-10        14.0           0.0   \n",
       "4   train              Jul-10       Jul-10        75.8           0.0   \n",
       "\n",
       "   tot_cur_bal total_rev_hi_lim  collections_12_mths_ex_med  emp_length  \n",
       "0      80986.0          23200.0                         0.0    < 1 year  \n",
       "1      80986.0          23200.0                         0.0    < 1 year  \n",
       "2      80986.0          23200.0                         0.0   10+ years  \n",
       "3      80986.0          23200.0                         0.0     6 years  \n",
       "4      80986.0          23200.0                         0.0    < 1 year  \n",
       "\n",
       "[5 rows x 36 columns]"
      ]
     },
     "execution_count": 56,
     "metadata": {},
     "output_type": "execute_result"
    }
   ],
   "source": [
    "fulldata3.head()"
   ]
  },
  {
   "cell_type": "code",
   "execution_count": 57,
   "metadata": {},
   "outputs": [
    {
     "data": {
      "text/plain": [
       "array(['< 1 year', '10+ years', '6 years', '3 years', '1 year', '8 years',\n",
       "       '7 years', '2 years', '4 years', '5 years', '9 years'],\n",
       "      dtype=object)"
      ]
     },
     "execution_count": 57,
     "metadata": {},
     "output_type": "execute_result"
    }
   ],
   "source": [
    "fulldata3.emp_length.unique()"
   ]
  },
  {
   "cell_type": "code",
   "execution_count": 58,
   "metadata": {},
   "outputs": [],
   "source": [
    "fulldata3.emp_length=np.where(fulldata3.emp_length=='< 1 year','less than 1 year',fulldata3.emp_length)\n",
    "fulldata3.emp_length=np.where(fulldata3.emp_length=='10+ years','10 plus year',fulldata3.emp_length)"
   ]
  },
  {
   "cell_type": "code",
   "execution_count": 59,
   "metadata": {},
   "outputs": [],
   "source": [
    "fulldata3.term=np.where(fulldata3.term==' 36 months','36','60')"
   ]
  },
  {
   "cell_type": "code",
   "execution_count": 60,
   "metadata": {},
   "outputs": [
    {
     "data": {
      "text/plain": [
       "loan_amnt                       int64\n",
       "term                           object\n",
       "int_rate                      float64\n",
       "grade                          object\n",
       "sub_grade                      object\n",
       "home_ownership                 object\n",
       "annual_inc                    float64\n",
       "verification_status            object\n",
       "pymnt_plan                     object\n",
       "purpose                        object\n",
       "addr_state                     object\n",
       "dti                           float64\n",
       "delinq_2yrs                     int64\n",
       "inq_last_6mths                 object\n",
       "open_acc                        int64\n",
       "pub_rec                         int64\n",
       "total_acc                     float64\n",
       "initial_list_status            object\n",
       "out_prncp                     float64\n",
       "total_pymnt                   float64\n",
       "total_rec_int                 float64\n",
       "total_rec_late_fee              int64\n",
       "recoveries                      int64\n",
       "last_pymnt_amnt               float64\n",
       "application_type               object\n",
       "acc_now_delinq                 object\n",
       "default_ind                    object\n",
       "Source                         object\n",
       "last_credit_pull_d             object\n",
       "last_pymnt_d                   object\n",
       "revol_util                    float64\n",
       "tot_coll_amt                  float64\n",
       "tot_cur_bal                   float64\n",
       "total_rev_hi_lim              float64\n",
       "collections_12_mths_ex_med    float64\n",
       "emp_length                     object\n",
       "dtype: object"
      ]
     },
     "execution_count": 60,
     "metadata": {},
     "output_type": "execute_result"
    }
   ],
   "source": [
    "fulldata3.dtypes"
   ]
  },
  {
   "cell_type": "code",
   "execution_count": 61,
   "metadata": {},
   "outputs": [
    {
     "data": {
      "text/plain": [
       "array(['train', 'test'], dtype=object)"
      ]
     },
     "execution_count": 61,
     "metadata": {},
     "output_type": "execute_result"
    }
   ],
   "source": [
    "fulldata3.Source.unique()"
   ]
  },
  {
   "cell_type": "code",
   "execution_count": 62,
   "metadata": {},
   "outputs": [],
   "source": [
    "train_f=fulldata3[fulldata3.Source=='train']"
   ]
  },
  {
   "cell_type": "code",
   "execution_count": 63,
   "metadata": {},
   "outputs": [
    {
     "data": {
      "text/html": [
       "<div>\n",
       "<style scoped>\n",
       "    .dataframe tbody tr th:only-of-type {\n",
       "        vertical-align: middle;\n",
       "    }\n",
       "\n",
       "    .dataframe tbody tr th {\n",
       "        vertical-align: top;\n",
       "    }\n",
       "\n",
       "    .dataframe thead th {\n",
       "        text-align: right;\n",
       "    }\n",
       "</style>\n",
       "<table border=\"1\" class=\"dataframe\">\n",
       "  <thead>\n",
       "    <tr style=\"text-align: right;\">\n",
       "      <th></th>\n",
       "      <th>loan_amnt</th>\n",
       "      <th>term</th>\n",
       "      <th>int_rate</th>\n",
       "      <th>grade</th>\n",
       "      <th>sub_grade</th>\n",
       "      <th>home_ownership</th>\n",
       "      <th>annual_inc</th>\n",
       "      <th>verification_status</th>\n",
       "      <th>pymnt_plan</th>\n",
       "      <th>purpose</th>\n",
       "      <th>...</th>\n",
       "      <th>default_ind</th>\n",
       "      <th>Source</th>\n",
       "      <th>last_credit_pull_d</th>\n",
       "      <th>last_pymnt_d</th>\n",
       "      <th>revol_util</th>\n",
       "      <th>tot_coll_amt</th>\n",
       "      <th>tot_cur_bal</th>\n",
       "      <th>total_rev_hi_lim</th>\n",
       "      <th>collections_12_mths_ex_med</th>\n",
       "      <th>emp_length</th>\n",
       "    </tr>\n",
       "  </thead>\n",
       "  <tbody>\n",
       "    <tr>\n",
       "      <th>0</th>\n",
       "      <td>7500</td>\n",
       "      <td>36</td>\n",
       "      <td>13.75</td>\n",
       "      <td>E</td>\n",
       "      <td>E2</td>\n",
       "      <td>OWN</td>\n",
       "      <td>22000.0</td>\n",
       "      <td>Not Verified</td>\n",
       "      <td>n</td>\n",
       "      <td>debt_consolidation</td>\n",
       "      <td>...</td>\n",
       "      <td>0</td>\n",
       "      <td>train</td>\n",
       "      <td>Jun-10</td>\n",
       "      <td>Jun-10</td>\n",
       "      <td>51.5</td>\n",
       "      <td>0.0</td>\n",
       "      <td>80986.0</td>\n",
       "      <td>23200.0</td>\n",
       "      <td>0.0</td>\n",
       "      <td>less than 1 year</td>\n",
       "    </tr>\n",
       "    <tr>\n",
       "      <th>1</th>\n",
       "      <td>3500</td>\n",
       "      <td>36</td>\n",
       "      <td>10.28</td>\n",
       "      <td>C</td>\n",
       "      <td>C1</td>\n",
       "      <td>RENT</td>\n",
       "      <td>20000.0</td>\n",
       "      <td>Not Verified</td>\n",
       "      <td>n</td>\n",
       "      <td>moving</td>\n",
       "      <td>...</td>\n",
       "      <td>0</td>\n",
       "      <td>train</td>\n",
       "      <td>Aug-10</td>\n",
       "      <td>Sep-10</td>\n",
       "      <td>32.4</td>\n",
       "      <td>0.0</td>\n",
       "      <td>80986.0</td>\n",
       "      <td>23200.0</td>\n",
       "      <td>0.0</td>\n",
       "      <td>less than 1 year</td>\n",
       "    </tr>\n",
       "    <tr>\n",
       "      <th>2</th>\n",
       "      <td>5750</td>\n",
       "      <td>36</td>\n",
       "      <td>7.43</td>\n",
       "      <td>A</td>\n",
       "      <td>A2</td>\n",
       "      <td>MORTGAGE</td>\n",
       "      <td>125000.0</td>\n",
       "      <td>Not Verified</td>\n",
       "      <td>n</td>\n",
       "      <td>debt_consolidation</td>\n",
       "      <td>...</td>\n",
       "      <td>0</td>\n",
       "      <td>train</td>\n",
       "      <td>Apr-10</td>\n",
       "      <td>May-10</td>\n",
       "      <td>10.2</td>\n",
       "      <td>0.0</td>\n",
       "      <td>80986.0</td>\n",
       "      <td>23200.0</td>\n",
       "      <td>0.0</td>\n",
       "      <td>10 plus year</td>\n",
       "    </tr>\n",
       "    <tr>\n",
       "      <th>3</th>\n",
       "      <td>5000</td>\n",
       "      <td>36</td>\n",
       "      <td>7.43</td>\n",
       "      <td>A</td>\n",
       "      <td>A2</td>\n",
       "      <td>RENT</td>\n",
       "      <td>40000.0</td>\n",
       "      <td>Not Verified</td>\n",
       "      <td>n</td>\n",
       "      <td>car</td>\n",
       "      <td>...</td>\n",
       "      <td>0</td>\n",
       "      <td>train</td>\n",
       "      <td>Nov-13</td>\n",
       "      <td>Aug-10</td>\n",
       "      <td>14.0</td>\n",
       "      <td>0.0</td>\n",
       "      <td>80986.0</td>\n",
       "      <td>23200.0</td>\n",
       "      <td>0.0</td>\n",
       "      <td>6 years</td>\n",
       "    </tr>\n",
       "    <tr>\n",
       "      <th>4</th>\n",
       "      <td>1200</td>\n",
       "      <td>36</td>\n",
       "      <td>11.54</td>\n",
       "      <td>C</td>\n",
       "      <td>C5</td>\n",
       "      <td>RENT</td>\n",
       "      <td>20000.0</td>\n",
       "      <td>Not Verified</td>\n",
       "      <td>n</td>\n",
       "      <td>credit_card</td>\n",
       "      <td>...</td>\n",
       "      <td>0</td>\n",
       "      <td>train</td>\n",
       "      <td>Jul-10</td>\n",
       "      <td>Jul-10</td>\n",
       "      <td>75.8</td>\n",
       "      <td>0.0</td>\n",
       "      <td>80986.0</td>\n",
       "      <td>23200.0</td>\n",
       "      <td>0.0</td>\n",
       "      <td>less than 1 year</td>\n",
       "    </tr>\n",
       "  </tbody>\n",
       "</table>\n",
       "<p>5 rows × 36 columns</p>\n",
       "</div>"
      ],
      "text/plain": [
       "   loan_amnt term  int_rate grade sub_grade home_ownership  annual_inc  \\\n",
       "0       7500   36     13.75     E        E2            OWN     22000.0   \n",
       "1       3500   36     10.28     C        C1           RENT     20000.0   \n",
       "2       5750   36      7.43     A        A2       MORTGAGE    125000.0   \n",
       "3       5000   36      7.43     A        A2           RENT     40000.0   \n",
       "4       1200   36     11.54     C        C5           RENT     20000.0   \n",
       "\n",
       "  verification_status pymnt_plan             purpose        ...         \\\n",
       "0        Not Verified          n  debt_consolidation        ...          \n",
       "1        Not Verified          n              moving        ...          \n",
       "2        Not Verified          n  debt_consolidation        ...          \n",
       "3        Not Verified          n                 car        ...          \n",
       "4        Not Verified          n         credit_card        ...          \n",
       "\n",
       "  default_ind  Source  last_credit_pull_d last_pymnt_d  revol_util  \\\n",
       "0           0   train              Jun-10       Jun-10        51.5   \n",
       "1           0   train              Aug-10       Sep-10        32.4   \n",
       "2           0   train              Apr-10       May-10        10.2   \n",
       "3           0   train              Nov-13       Aug-10        14.0   \n",
       "4           0   train              Jul-10       Jul-10        75.8   \n",
       "\n",
       "   tot_coll_amt  tot_cur_bal total_rev_hi_lim  collections_12_mths_ex_med  \\\n",
       "0           0.0      80986.0          23200.0                         0.0   \n",
       "1           0.0      80986.0          23200.0                         0.0   \n",
       "2           0.0      80986.0          23200.0                         0.0   \n",
       "3           0.0      80986.0          23200.0                         0.0   \n",
       "4           0.0      80986.0          23200.0                         0.0   \n",
       "\n",
       "         emp_length  \n",
       "0  less than 1 year  \n",
       "1  less than 1 year  \n",
       "2      10 plus year  \n",
       "3           6 years  \n",
       "4  less than 1 year  \n",
       "\n",
       "[5 rows x 36 columns]"
      ]
     },
     "execution_count": 63,
     "metadata": {},
     "output_type": "execute_result"
    }
   ],
   "source": [
    "train_f.head()"
   ]
  },
  {
   "cell_type": "code",
   "execution_count": 64,
   "metadata": {},
   "outputs": [],
   "source": [
    "test_f=fulldata3[fulldata3.Source=='test']"
   ]
  },
  {
   "cell_type": "code",
   "execution_count": 65,
   "metadata": {},
   "outputs": [
    {
     "data": {
      "text/plain": [
       "0    552822\n",
       "1     46156\n",
       "Name: default_ind, dtype: int64"
      ]
     },
     "execution_count": 65,
     "metadata": {},
     "output_type": "execute_result"
    }
   ],
   "source": [
    "train_f.default_ind.value_counts()"
   ]
  },
  {
   "cell_type": "code",
   "execution_count": 66,
   "metadata": {},
   "outputs": [
    {
     "data": {
      "text/plain": [
       "0    256680\n",
       "1       311\n",
       "Name: default_ind, dtype: int64"
      ]
     },
     "execution_count": 66,
     "metadata": {},
     "output_type": "execute_result"
    }
   ],
   "source": [
    "test_f.default_ind.value_counts()"
   ]
  },
  {
   "cell_type": "code",
   "execution_count": 67,
   "metadata": {},
   "outputs": [
    {
     "data": {
      "text/plain": [
       "0    0\n",
       "1    0\n",
       "2    0\n",
       "3    0\n",
       "4    0\n",
       "Name: default_ind, dtype: object"
      ]
     },
     "execution_count": 67,
     "metadata": {},
     "output_type": "execute_result"
    }
   ],
   "source": [
    "train_f.default_ind.head()"
   ]
  },
  {
   "cell_type": "code",
   "execution_count": 68,
   "metadata": {},
   "outputs": [
    {
     "data": {
      "text/plain": [
       "0    809502\n",
       "1     46467\n",
       "Name: default_ind, dtype: int64"
      ]
     },
     "execution_count": 68,
     "metadata": {},
     "output_type": "execute_result"
    }
   ],
   "source": [
    "fulldata3.default_ind.value_counts()"
   ]
  },
  {
   "cell_type": "markdown",
   "metadata": {},
   "source": [
    "# stratified sampling"
   ]
  },
  {
   "cell_type": "code",
   "execution_count": 69,
   "metadata": {},
   "outputs": [
    {
     "data": {
      "text/plain": [
       "0    552822\n",
       "1     46156\n",
       "Name: default_ind, dtype: int64"
      ]
     },
     "execution_count": 69,
     "metadata": {},
     "output_type": "execute_result"
    }
   ],
   "source": [
    "train_f.default_ind.value_counts()"
   ]
  },
  {
   "cell_type": "code",
   "execution_count": 70,
   "metadata": {},
   "outputs": [],
   "source": [
    "count_1=train_f.default_ind.value_counts()[1]"
   ]
  },
  {
   "cell_type": "code",
   "execution_count": 71,
   "metadata": {},
   "outputs": [],
   "source": [
    "count_t=int(5*count_1)"
   ]
  },
  {
   "cell_type": "code",
   "execution_count": 72,
   "metadata": {},
   "outputs": [
    {
     "data": {
      "text/plain": [
       "230780"
      ]
     },
     "execution_count": 72,
     "metadata": {},
     "output_type": "execute_result"
    }
   ],
   "source": [
    "count_t"
   ]
  },
  {
   "cell_type": "code",
   "execution_count": 73,
   "metadata": {},
   "outputs": [],
   "source": [
    "count_0=int(.8*count_t)"
   ]
  },
  {
   "cell_type": "code",
   "execution_count": 74,
   "metadata": {},
   "outputs": [
    {
     "data": {
      "text/plain": [
       "184624"
      ]
     },
     "execution_count": 74,
     "metadata": {},
     "output_type": "execute_result"
    }
   ],
   "source": [
    "count_0"
   ]
  },
  {
   "cell_type": "code",
   "execution_count": 75,
   "metadata": {},
   "outputs": [
    {
     "data": {
      "text/plain": [
       "<matplotlib.axes._subplots.AxesSubplot at 0x13198d066a0>"
      ]
     },
     "execution_count": 75,
     "metadata": {},
     "output_type": "execute_result"
    },
    {
     "data": {
      "image/png": "[encoded data removed]",
      "text/plain": [
       "<Figure size 432x288 with 1 Axes>"
      ]
     },
     "metadata": {
      "needs_background": "light"
     },
     "output_type": "display_data"
    }
   ],
   "source": [
    "train_f.default_ind.value_counts().plot.bar()"
   ]
  },
  {
   "cell_type": "code",
   "execution_count": 76,
   "metadata": {},
   "outputs": [],
   "source": [
    "train_class_0 = train_f[train_f['default_ind'] == '0']\n",
    "train_class_1 = train_f[train_f['default_ind'] == '1']"
   ]
  },
  {
   "cell_type": "code",
   "execution_count": 77,
   "metadata": {},
   "outputs": [],
   "source": [
    "train_class_0_strat = train_class_0.sample(count_0, replace=True)"
   ]
  },
  {
   "cell_type": "code",
   "execution_count": 78,
   "metadata": {},
   "outputs": [
    {
     "data": {
      "text/plain": [
       "184624"
      ]
     },
     "execution_count": 78,
     "metadata": {},
     "output_type": "execute_result"
    }
   ],
   "source": [
    "len(train_class_0_strat)"
   ]
  },
  {
   "cell_type": "code",
   "execution_count": 79,
   "metadata": {},
   "outputs": [
    {
     "data": {
      "text/html": [
       "<div>\n",
       "<style scoped>\n",
       "    .dataframe tbody tr th:only-of-type {\n",
       "        vertical-align: middle;\n",
       "    }\n",
       "\n",
       "    .dataframe tbody tr th {\n",
       "        vertical-align: top;\n",
       "    }\n",
       "\n",
       "    .dataframe thead th {\n",
       "        text-align: right;\n",
       "    }\n",
       "</style>\n",
       "<table border=\"1\" class=\"dataframe\">\n",
       "  <thead>\n",
       "    <tr style=\"text-align: right;\">\n",
       "      <th></th>\n",
       "      <th>loan_amnt</th>\n",
       "      <th>term</th>\n",
       "      <th>int_rate</th>\n",
       "      <th>grade</th>\n",
       "      <th>sub_grade</th>\n",
       "      <th>home_ownership</th>\n",
       "      <th>annual_inc</th>\n",
       "      <th>verification_status</th>\n",
       "      <th>pymnt_plan</th>\n",
       "      <th>purpose</th>\n",
       "      <th>...</th>\n",
       "      <th>default_ind</th>\n",
       "      <th>Source</th>\n",
       "      <th>last_credit_pull_d</th>\n",
       "      <th>last_pymnt_d</th>\n",
       "      <th>revol_util</th>\n",
       "      <th>tot_coll_amt</th>\n",
       "      <th>tot_cur_bal</th>\n",
       "      <th>total_rev_hi_lim</th>\n",
       "      <th>collections_12_mths_ex_med</th>\n",
       "      <th>emp_length</th>\n",
       "    </tr>\n",
       "  </thead>\n",
       "  <tbody>\n",
       "    <tr>\n",
       "      <th>389057</th>\n",
       "      <td>16000</td>\n",
       "      <td>36</td>\n",
       "      <td>7.69</td>\n",
       "      <td>A</td>\n",
       "      <td>A4</td>\n",
       "      <td>MORTGAGE</td>\n",
       "      <td>70000.0</td>\n",
       "      <td>Source Verified</td>\n",
       "      <td>n</td>\n",
       "      <td>credit_card</td>\n",
       "      <td>...</td>\n",
       "      <td>0</td>\n",
       "      <td>train</td>\n",
       "      <td>Jan-16</td>\n",
       "      <td>Dec-15</td>\n",
       "      <td>37.4</td>\n",
       "      <td>170.0</td>\n",
       "      <td>307771.0</td>\n",
       "      <td>22100.0</td>\n",
       "      <td>0.0</td>\n",
       "      <td>10 plus year</td>\n",
       "    </tr>\n",
       "    <tr>\n",
       "      <th>271327</th>\n",
       "      <td>8100</td>\n",
       "      <td>36</td>\n",
       "      <td>7.90</td>\n",
       "      <td>A</td>\n",
       "      <td>A4</td>\n",
       "      <td>RENT</td>\n",
       "      <td>105000.0</td>\n",
       "      <td>Not Verified</td>\n",
       "      <td>n</td>\n",
       "      <td>debt_consolidation</td>\n",
       "      <td>...</td>\n",
       "      <td>0</td>\n",
       "      <td>train</td>\n",
       "      <td>Jan-16</td>\n",
       "      <td>Dec-15</td>\n",
       "      <td>41.1</td>\n",
       "      <td>0.0</td>\n",
       "      <td>105703.0</td>\n",
       "      <td>101400.0</td>\n",
       "      <td>0.0</td>\n",
       "      <td>10 plus year</td>\n",
       "    </tr>\n",
       "    <tr>\n",
       "      <th>390919</th>\n",
       "      <td>25000</td>\n",
       "      <td>36</td>\n",
       "      <td>7.12</td>\n",
       "      <td>A</td>\n",
       "      <td>A3</td>\n",
       "      <td>MORTGAGE</td>\n",
       "      <td>118000.0</td>\n",
       "      <td>Verified</td>\n",
       "      <td>n</td>\n",
       "      <td>debt_consolidation</td>\n",
       "      <td>...</td>\n",
       "      <td>0</td>\n",
       "      <td>train</td>\n",
       "      <td>Jan-16</td>\n",
       "      <td>Dec-15</td>\n",
       "      <td>45.9</td>\n",
       "      <td>0.0</td>\n",
       "      <td>467473.0</td>\n",
       "      <td>379000.0</td>\n",
       "      <td>0.0</td>\n",
       "      <td>10 plus year</td>\n",
       "    </tr>\n",
       "    <tr>\n",
       "      <th>529405</th>\n",
       "      <td>20000</td>\n",
       "      <td>36</td>\n",
       "      <td>14.65</td>\n",
       "      <td>C</td>\n",
       "      <td>C5</td>\n",
       "      <td>MORTGAGE</td>\n",
       "      <td>107500.0</td>\n",
       "      <td>Verified</td>\n",
       "      <td>n</td>\n",
       "      <td>home_improvement</td>\n",
       "      <td>...</td>\n",
       "      <td>0</td>\n",
       "      <td>train</td>\n",
       "      <td>Jan-16</td>\n",
       "      <td>Jan-16</td>\n",
       "      <td>97.4</td>\n",
       "      <td>0.0</td>\n",
       "      <td>506918.0</td>\n",
       "      <td>10300.0</td>\n",
       "      <td>0.0</td>\n",
       "      <td>6 years</td>\n",
       "    </tr>\n",
       "    <tr>\n",
       "      <th>477034</th>\n",
       "      <td>13725</td>\n",
       "      <td>60</td>\n",
       "      <td>15.59</td>\n",
       "      <td>D</td>\n",
       "      <td>D1</td>\n",
       "      <td>RENT</td>\n",
       "      <td>120000.0</td>\n",
       "      <td>Source Verified</td>\n",
       "      <td>n</td>\n",
       "      <td>debt_consolidation</td>\n",
       "      <td>...</td>\n",
       "      <td>0</td>\n",
       "      <td>train</td>\n",
       "      <td>Jan-16</td>\n",
       "      <td>Jan-16</td>\n",
       "      <td>46.7</td>\n",
       "      <td>0.0</td>\n",
       "      <td>46611.0</td>\n",
       "      <td>4300.0</td>\n",
       "      <td>0.0</td>\n",
       "      <td>less than 1 year</td>\n",
       "    </tr>\n",
       "  </tbody>\n",
       "</table>\n",
       "<p>5 rows × 36 columns</p>\n",
       "</div>"
      ],
      "text/plain": [
       "        loan_amnt term  int_rate grade sub_grade home_ownership  annual_inc  \\\n",
       "389057      16000   36      7.69     A        A4       MORTGAGE     70000.0   \n",
       "271327       8100   36      7.90     A        A4           RENT    105000.0   \n",
       "390919      25000   36      7.12     A        A3       MORTGAGE    118000.0   \n",
       "529405      20000   36     14.65     C        C5       MORTGAGE    107500.0   \n",
       "477034      13725   60     15.59     D        D1           RENT    120000.0   \n",
       "\n",
       "       verification_status pymnt_plan             purpose        ...         \\\n",
       "389057     Source Verified          n         credit_card        ...          \n",
       "271327        Not Verified          n  debt_consolidation        ...          \n",
       "390919            Verified          n  debt_consolidation        ...          \n",
       "529405            Verified          n    home_improvement        ...          \n",
       "477034     Source Verified          n  debt_consolidation        ...          \n",
       "\n",
       "       default_ind  Source  last_credit_pull_d last_pymnt_d  revol_util  \\\n",
       "389057           0   train              Jan-16       Dec-15        37.4   \n",
       "271327           0   train              Jan-16       Dec-15        41.1   \n",
       "390919           0   train              Jan-16       Dec-15        45.9   \n",
       "529405           0   train              Jan-16       Jan-16        97.4   \n",
       "477034           0   train              Jan-16       Jan-16        46.7   \n",
       "\n",
       "        tot_coll_amt  tot_cur_bal total_rev_hi_lim  \\\n",
       "389057         170.0     307771.0          22100.0   \n",
       "271327           0.0     105703.0         101400.0   \n",
       "390919           0.0     467473.0         379000.0   \n",
       "529405           0.0     506918.0          10300.0   \n",
       "477034           0.0      46611.0           4300.0   \n",
       "\n",
       "        collections_12_mths_ex_med        emp_length  \n",
       "389057                         0.0      10 plus year  \n",
       "271327                         0.0      10 plus year  \n",
       "390919                         0.0      10 plus year  \n",
       "529405                         0.0           6 years  \n",
       "477034                         0.0  less than 1 year  \n",
       "\n",
       "[5 rows x 36 columns]"
      ]
     },
     "execution_count": 79,
     "metadata": {},
     "output_type": "execute_result"
    }
   ],
   "source": [
    "train_class_0_strat.head()"
   ]
  },
  {
   "cell_type": "code",
   "execution_count": 80,
   "metadata": {},
   "outputs": [],
   "source": [
    "final_train_data=pd.concat([train_class_0_strat,train_class_1],axis=0)"
   ]
  },
  {
   "cell_type": "code",
   "execution_count": 81,
   "metadata": {},
   "outputs": [
    {
     "data": {
      "text/plain": [
       "0    184624\n",
       "1     46156\n",
       "Name: default_ind, dtype: int64"
      ]
     },
     "execution_count": 81,
     "metadata": {},
     "output_type": "execute_result"
    }
   ],
   "source": [
    "final_train_data.default_ind.value_counts()"
   ]
  },
  {
   "cell_type": "code",
   "execution_count": 82,
   "metadata": {},
   "outputs": [],
   "source": [
    "final_test_data=test_f"
   ]
  },
  {
   "cell_type": "code",
   "execution_count": 83,
   "metadata": {},
   "outputs": [],
   "source": [
    "final_train_data.to_csv('final_train_data.csv',index=False)\n",
    "final_test_data.to_csv('final_test_data.csv',index=False)"
   ]
  },
  {
   "cell_type": "code",
   "execution_count": 84,
   "metadata": {},
   "outputs": [
    {
     "data": {
      "text/plain": [
       "0    184624\n",
       "1     46156\n",
       "Name: default_ind, dtype: int64"
      ]
     },
     "execution_count": 84,
     "metadata": {},
     "output_type": "execute_result"
    }
   ],
   "source": [
    "final_train_data.default_ind.value_counts()"
   ]
  },
  {
   "cell_type": "code",
   "execution_count": 85,
   "metadata": {},
   "outputs": [
    {
     "data": {
      "text/plain": [
       "0    256680\n",
       "1       311\n",
       "Name: default_ind, dtype: int64"
      ]
     },
     "execution_count": 85,
     "metadata": {},
     "output_type": "execute_result"
    }
   ],
   "source": [
    "final_test_data.default_ind.value_counts()"
   ]
  },
  {
   "cell_type": "code",
   "execution_count": null,
   "metadata": {},
   "outputs": [],
   "source": []
  },
  {
   "cell_type": "code",
   "execution_count": null,
   "metadata": {},
   "outputs": [],
   "source": []
  }
 ],
 "metadata": {
  "kernelspec": {
   "display_name": "Python 3",
   "language": "python",
   "name": "python3"
  },
  "language_info": {
   "codemirror_mode": {
    "name": "ipython",
    "version": 3
   },
   "file_extension": ".py",
   "mimetype": "text/x-python",
   "name": "python",
   "nbconvert_exporter": "python",
   "pygments_lexer": "ipython3",
   "version": "3.7.1"
  }
 },
 "nbformat": 4,
 "nbformat_minor": 2
}
